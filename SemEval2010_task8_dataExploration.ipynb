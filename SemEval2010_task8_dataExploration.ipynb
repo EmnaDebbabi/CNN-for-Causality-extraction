{
 "cells": [
  {
   "cell_type": "code",
   "execution_count": 10,
   "id": "470e6c91",
   "metadata": {},
   "outputs": [
    {
     "data": {
      "text/html": [
       "<div>\n",
       "<style scoped>\n",
       "    .dataframe tbody tr th:only-of-type {\n",
       "        vertical-align: middle;\n",
       "    }\n",
       "\n",
       "    .dataframe tbody tr th {\n",
       "        vertical-align: top;\n",
       "    }\n",
       "\n",
       "    .dataframe thead th {\n",
       "        text-align: right;\n",
       "    }\n",
       "</style>\n",
       "<table border=\"1\" class=\"dataframe\">\n",
       "  <thead>\n",
       "    <tr style=\"text-align: right;\">\n",
       "      <th></th>\n",
       "      <th>Other</th>\n",
       "      <th>12</th>\n",
       "      <th>15</th>\n",
       "      <th>The system as described above has its greatest application in an arrayed configuration of antenna elements .</th>\n",
       "    </tr>\n",
       "  </thead>\n",
       "  <tbody>\n",
       "    <tr>\n",
       "      <th>0</th>\n",
       "      <td>Other</td>\n",
       "      <td>1</td>\n",
       "      <td>9</td>\n",
       "      <td>The child was carefully wrapped and bound into...</td>\n",
       "    </tr>\n",
       "    <tr>\n",
       "      <th>1</th>\n",
       "      <td>Other</td>\n",
       "      <td>1</td>\n",
       "      <td>7</td>\n",
       "      <td>The author of a keygen uses a disassembler to ...</td>\n",
       "    </tr>\n",
       "    <tr>\n",
       "      <th>2</th>\n",
       "      <td>Other</td>\n",
       "      <td>2</td>\n",
       "      <td>6</td>\n",
       "      <td>A misty ridge uprises from the surge .</td>\n",
       "    </tr>\n",
       "    <tr>\n",
       "      <th>3</th>\n",
       "      <td>Other</td>\n",
       "      <td>1</td>\n",
       "      <td>2</td>\n",
       "      <td>The student association is the voice of the un...</td>\n",
       "    </tr>\n",
       "    <tr>\n",
       "      <th>4</th>\n",
       "      <td>Other</td>\n",
       "      <td>4</td>\n",
       "      <td>10</td>\n",
       "      <td>This is the sprawling complex that is Peru 's ...</td>\n",
       "    </tr>\n",
       "    <tr>\n",
       "      <th>...</th>\n",
       "      <td>...</td>\n",
       "      <td>...</td>\n",
       "      <td>...</td>\n",
       "      <td>...</td>\n",
       "    </tr>\n",
       "    <tr>\n",
       "      <th>7994</th>\n",
       "      <td>Other</td>\n",
       "      <td>2</td>\n",
       "      <td>6</td>\n",
       "      <td>When the notice is sent by fax , the notice is...</td>\n",
       "    </tr>\n",
       "    <tr>\n",
       "      <th>7995</th>\n",
       "      <td>Other</td>\n",
       "      <td>1</td>\n",
       "      <td>7</td>\n",
       "      <td>The herbicide is derived from a natural antibi...</td>\n",
       "    </tr>\n",
       "    <tr>\n",
       "      <th>7996</th>\n",
       "      <td>Other</td>\n",
       "      <td>8</td>\n",
       "      <td>11</td>\n",
       "      <td>To test this , we placed a kitchen match in th...</td>\n",
       "    </tr>\n",
       "    <tr>\n",
       "      <th>7997</th>\n",
       "      <td>Other</td>\n",
       "      <td>17</td>\n",
       "      <td>18</td>\n",
       "      <td>The farmers and city officials in the region h...</td>\n",
       "    </tr>\n",
       "    <tr>\n",
       "      <th>7998</th>\n",
       "      <td>Other</td>\n",
       "      <td>1</td>\n",
       "      <td>5</td>\n",
       "      <td>The surgeon cuts a small hole in the skull and...</td>\n",
       "    </tr>\n",
       "  </tbody>\n",
       "</table>\n",
       "<p>7999 rows × 4 columns</p>\n",
       "</div>"
      ],
      "text/plain": [
       "      Other  12  15  \\\n",
       "0     Other   1   9   \n",
       "1     Other   1   7   \n",
       "2     Other   2   6   \n",
       "3     Other   1   2   \n",
       "4     Other   4  10   \n",
       "...     ...  ..  ..   \n",
       "7994  Other   2   6   \n",
       "7995  Other   1   7   \n",
       "7996  Other   8  11   \n",
       "7997  Other  17  18   \n",
       "7998  Other   1   5   \n",
       "\n",
       "     The system as described above has its greatest application in an arrayed configuration of antenna elements .  \n",
       "0     The child was carefully wrapped and bound into...                                                            \n",
       "1     The author of a keygen uses a disassembler to ...                                                            \n",
       "2                A misty ridge uprises from the surge .                                                            \n",
       "3     The student association is the voice of the un...                                                            \n",
       "4     This is the sprawling complex that is Peru 's ...                                                            \n",
       "...                                                 ...                                                            \n",
       "7994  When the notice is sent by fax , the notice is...                                                            \n",
       "7995  The herbicide is derived from a natural antibi...                                                            \n",
       "7996  To test this , we placed a kitchen match in th...                                                            \n",
       "7997  The farmers and city officials in the region h...                                                            \n",
       "7998  The surgeon cuts a small hole in the skull and...                                                            \n",
       "\n",
       "[7999 rows x 4 columns]"
      ]
     },
     "execution_count": 10,
     "metadata": {},
     "output_type": "execute_result"
    }
   ],
   "source": [
    "import pandas as pd\n",
    "\n",
    "df= pd.read_csv(\"data/ctrain.txt\",sep=\"\\t\")\n",
    "df"
   ]
  },
  {
   "cell_type": "code",
   "execution_count": 11,
   "id": "1659889f",
   "metadata": {},
   "outputs": [
    {
     "data": {
      "text/plain": [
       "1003"
      ]
     },
     "execution_count": 11,
     "metadata": {},
     "output_type": "execute_result"
    }
   ],
   "source": [
    "len(df[df['Other']!='Other'])"
   ]
  },
  {
   "cell_type": "code",
   "execution_count": 11,
   "id": "d194ad50",
   "metadata": {},
   "outputs": [
    {
     "data": {
      "text/plain": [
       "659"
      ]
     },
     "execution_count": 11,
     "metadata": {},
     "output_type": "execute_result"
    }
   ],
   "source": [
    "len(df[df['Other']=='Cause-Effect(e2,e1)'])"
   ]
  },
  {
   "cell_type": "code",
   "execution_count": 12,
   "id": "a5b4c418",
   "metadata": {},
   "outputs": [
    {
     "data": {
      "text/plain": [
       "344"
      ]
     },
     "execution_count": 12,
     "metadata": {},
     "output_type": "execute_result"
    }
   ],
   "source": [
    "len(df[df['Other']=='Cause-Effect(e1,e2)'])"
   ]
  },
  {
   "cell_type": "code",
   "execution_count": 12,
   "id": "83d4eadc",
   "metadata": {},
   "outputs": [
    {
     "data": {
      "text/plain": [
       "6996"
      ]
     },
     "execution_count": 12,
     "metadata": {},
     "output_type": "execute_result"
    }
   ],
   "source": [
    "len(df[df['Other']=='Other'])"
   ]
  },
  {
   "cell_type": "code",
   "execution_count": 8,
   "id": "b66715ba",
   "metadata": {},
   "outputs": [
    {
     "data": {
      "text/plain": [
       "14.336763865065752"
      ]
     },
     "execution_count": 8,
     "metadata": {},
     "output_type": "execute_result"
    }
   ],
   "source": [
    "1003/6996*100"
   ]
  },
  {
   "cell_type": "code",
   "execution_count": 13,
   "id": "c0567962",
   "metadata": {},
   "outputs": [
    {
     "data": {
      "text/plain": [
       "10.61608497723824"
      ]
     },
     "execution_count": 13,
     "metadata": {},
     "output_type": "execute_result"
    }
   ],
   "source": [
    "6996/659"
   ]
  },
  {
   "cell_type": "code",
   "execution_count": 14,
   "id": "23895edf",
   "metadata": {},
   "outputs": [
    {
     "data": {
      "text/plain": [
       "20.337209302325583"
      ]
     },
     "execution_count": 14,
     "metadata": {},
     "output_type": "execute_result"
    }
   ],
   "source": [
    "6996/344"
   ]
  },
  {
   "cell_type": "code",
   "execution_count": 8,
   "id": "a80a264e",
   "metadata": {},
   "outputs": [
    {
     "data": {
      "text/plain": [
       "988.5"
      ]
     },
     "execution_count": 8,
     "metadata": {},
     "output_type": "execute_result"
    }
   ],
   "source": [
    "659*1.5"
   ]
  },
  {
   "cell_type": "code",
   "execution_count": 9,
   "id": "4bd433f9",
   "metadata": {},
   "outputs": [
    {
     "data": {
      "text/plain": [
       "1032"
      ]
     },
     "execution_count": 9,
     "metadata": {},
     "output_type": "execute_result"
    }
   ],
   "source": [
    "344*3"
   ]
  },
  {
   "cell_type": "code",
   "execution_count": null,
   "id": "9d787926",
   "metadata": {},
   "outputs": [],
   "source": []
  }
 ],
 "metadata": {
  "kernelspec": {
   "display_name": "Python 3 (ipykernel)",
   "language": "python",
   "name": "python3"
  },
  "language_info": {
   "codemirror_mode": {
    "name": "ipython",
    "version": 3
   },
   "file_extension": ".py",
   "mimetype": "text/x-python",
   "name": "python",
   "nbconvert_exporter": "python",
   "pygments_lexer": "ipython3",
   "version": "3.9.7"
  }
 },
 "nbformat": 4,
 "nbformat_minor": 5
}
