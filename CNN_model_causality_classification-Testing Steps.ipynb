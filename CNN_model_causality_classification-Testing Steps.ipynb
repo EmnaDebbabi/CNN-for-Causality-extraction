{
 "cells": [
  {
   "cell_type": "code",
   "execution_count": null,
   "id": "ec2bc96b",
   "metadata": {},
   "outputs": [],
   "source": []
  },
  {
   "cell_type": "markdown",
   "id": "df87fd50",
   "metadata": {},
   "source": [
    "# Preprocessing"
   ]
  },
  {
   "cell_type": "code",
   "execution_count": 1,
   "id": "9442313c",
   "metadata": {},
   "outputs": [],
   "source": [
    "from __future__ import print_function\n",
    "import numpy as np\n",
    "import gzip\n",
    "import os\n",
    "import sys\n",
    "import pickle as pkl\n",
    "from utils import *"
   ]
  },
  {
   "cell_type": "code",
   "execution_count": 2,
   "id": "505eb211",
   "metadata": {},
   "outputs": [],
   "source": [
    "folder = 'data/'\n",
    "files = [folder+'ctrain.txt', folder+'ctest.txt']"
   ]
  },
  {
   "cell_type": "code",
   "execution_count": 3,
   "id": "d7f65a48",
   "metadata": {},
   "outputs": [],
   "source": [
    "folder = 'data/'\n",
    "outputFilePath = folder + 'causal-relations.pkl.gz'\n",
    "#Download English word embeddings from here https://www.cs.york.ac.uk/nlp/extvec/\n",
    "embeddingsPath = folder + 'wiki_extvec.gz'\n",
    "files = [folder+'ctrain.txt', folder+'ctest.txt']"
   ]
  },
  {
   "cell_type": "code",
   "execution_count": 4,
   "id": "1a052c50",
   "metadata": {},
   "outputs": [],
   "source": [
    "#Mapping of the labels to integers\n",
    "labelsMapping = {'Other':0, 'Cause-Effect(e1,e2)':1, 'Cause-Effect(e2,e1)':2}\n",
    "words = {}\n",
    "maxSentenceLen = [0,0]\n",
    "minDistance = -30\n",
    "maxDistance = 30\n",
    "\n",
    "for fileIdx in range(len(files)):\n",
    "    file = files[fileIdx]\n",
    "    for line in open(file):\n",
    "        splits = line.strip().split('\\t')\n",
    "        label = splits[0]\n",
    "        sentence = splits[3]        \n",
    "        tokens = sentence.split(\" \")\n",
    "        maxSentenceLen[fileIdx] = max(maxSentenceLen[fileIdx], len(tokens))\n",
    "        for token in tokens:\n",
    "            words[token.lower()] = True"
   ]
  },
  {
   "cell_type": "code",
   "execution_count": 5,
   "id": "fa7ebb2c",
   "metadata": {},
   "outputs": [
    {
     "name": "stdout",
     "output_type": "stream",
     "text": [
      "Max Sentence Lengths:  [97, 67]\n"
     ]
    }
   ],
   "source": [
    "print(\"Max Sentence Lengths: \", maxSentenceLen)"
   ]
  },
  {
   "cell_type": "markdown",
   "id": "c77a455a",
   "metadata": {},
   "source": [
    "Extended Dependency Based Skip-gram\n",
    "The Extended Dependency Based Skip-gram is a method for training word embeddings using structural information from dependency graphs. In addition to standard word embeddings, it produces embeddings of dependency context features (e.g. det_a, compound_programming, compound_inv_language) which were found to be useful features in several sentence classification tasks."
   ]
  },
  {
   "cell_type": "code",
   "execution_count": 6,
   "id": "625e9ca0",
   "metadata": {},
   "outputs": [],
   "source": [
    "# :: Read in word embeddings ::\n",
    "word2Idx = {}\n",
    "wordEmbeddings = []\n",
    "\n",
    "# :: Downloads the embeddings from the York webserver ::\n",
    "if not os.path.isfile(embeddingsPath):\n",
    "    basename = os.path.basename(embeddingsPath)\n",
    "    if basename == 'wiki_extvec.gz':\n",
    "           print(\"Start downloading word embeddings for English using wget ...\")\n",
    "           #os.system(\"wget https://www.cs.york.ac.uk/nlp/extvec/\"+basename+\" -P embeddings/\")\n",
    "           os.system(\"wget https://public.ukp.informatik.tu-darmstadt.de/reimers/2017_english_embeddings/\"+basename+\" -P embeddings/\")\n",
    "    else:\n",
    "        print(embeddingsPath, \"does not exist. Please provide pre-trained embeddings\")\n",
    "        exit()\n",
    "        \n",
    "# :: Load the pre-trained embeddings file ::\n",
    "fEmbeddings = gzip.open(embeddingsPath, \"r\") if embeddingsPath.endswith('.gz') else open(embeddingsPath, encoding=\"utf8\")"
   ]
  },
  {
   "cell_type": "code",
   "execution_count": 7,
   "id": "bb013601",
   "metadata": {},
   "outputs": [
    {
     "name": "stdout",
     "output_type": "stream",
     "text": [
      "Load pre-trained embeddings file\n"
     ]
    }
   ],
   "source": [
    "print(\"Load pre-trained embeddings file\")\n",
    "for line in fEmbeddings:\n",
    "    \n",
    "    split = line.decode('utf-8').strip().split(\" \")\n",
    "    word = split[0]\n",
    "    \n",
    "    if len(word2Idx) == 0: #Add padding+unknown\n",
    "        word2Idx[\"PADDING_TOKEN\"] = len(word2Idx)\n",
    "        vector = np.zeros(len(split)-1) #Zero vector vor 'PADDING' word\n",
    "        wordEmbeddings.append(vector)\n",
    "        \n",
    "        word2Idx[\"UNKNOWN_TOKEN\"] = len(word2Idx)\n",
    "        vector = np.random.uniform(-0.25, 0.25, len(split)-1)\n",
    "        wordEmbeddings.append(vector)\n",
    "\n",
    "    if word.lower() in words:\n",
    "        vector = np.array([float(num) for num in split[1:]])\n",
    "        wordEmbeddings.append(vector)\n",
    "        word2Idx[word] = len(word2Idx)\n",
    "       \n",
    "        \n",
    "wordEmbeddings = np.array(wordEmbeddings)"
   ]
  },
  {
   "cell_type": "code",
   "execution_count": 8,
   "id": "3070a02a",
   "metadata": {},
   "outputs": [
    {
     "name": "stdout",
     "output_type": "stream",
     "text": [
      "Embeddings shape:  (21243, 300)\n",
      "Len words:  23503\n"
     ]
    }
   ],
   "source": [
    "print(\"Embeddings shape: \", wordEmbeddings.shape)\n",
    "print(\"Len words: \", len(words))"
   ]
  },
  {
   "cell_type": "code",
   "execution_count": 9,
   "id": "40065e77",
   "metadata": {},
   "outputs": [
    {
     "name": "stdout",
     "output_type": "stream",
     "text": [
      "Data stored in pkl folder\n"
     ]
    }
   ],
   "source": [
    "# :: Create token matrix ::\n",
    "vectorizer = Vectorizer(word2Idx, labelsMapping, minDistance, maxDistance, max(maxSentenceLen))\n",
    "train_set = vectorizer.vectorizeInput(files[0])\n",
    "test_set = vectorizer.vectorizeInput(files[1])\n",
    "\n",
    "data = {'wordEmbeddings': wordEmbeddings, 'word2Idx': word2Idx, \n",
    "        'train_set': train_set, 'test_set': test_set, 'labels_mapping': labelsMapping, 'max_sentence_length': max(maxSentenceLen), 'min_distance': minDistance, 'max_distance': maxDistance}\n",
    "\n",
    "f = gzip.open(outputFilePath, 'wb')\n",
    "pkl.dump(data, f)\n",
    "f.close()\n",
    "\n",
    "print(\"Data stored in pkl folder\") "
   ]
  },
  {
   "cell_type": "markdown",
   "id": "f8fc7bff",
   "metadata": {},
   "source": [
    "# Training "
   ]
  },
  {
   "cell_type": "code",
   "execution_count": 10,
   "id": "b79ab03f",
   "metadata": {},
   "outputs": [],
   "source": [
    "import tensorflow as tf"
   ]
  },
  {
   "cell_type": "code",
   "execution_count": 11,
   "id": "c5bde0ef",
   "metadata": {},
   "outputs": [],
   "source": [
    "import tensorflow.python.keras\n",
    "from tensorflow.python.keras.models import Model\n",
    "from tensorflow.python.keras.models import load_model\n",
    "from tensorflow.python.keras.layers import Input, Dense, Dropout, Activation, Flatten, concatenate\n",
    "from tensorflow.python.keras.layers import Embedding\n",
    "from tensorflow.python.keras.layers import Convolution1D, MaxPooling1D, GlobalMaxPooling1D\n",
    "from tensorflow.python.keras.regularizers import Regularizer\n",
    "from tensorflow.python.keras.preprocessing import sequence"
   ]
  },
  {
   "cell_type": "code",
   "execution_count": 12,
   "id": "e4d4e8c7",
   "metadata": {},
   "outputs": [],
   "source": [
    "batch_size = 64\n",
    "nb_filter = 100\n",
    "filter_length = 3\n",
    "hidden_dims = 100\n",
    "nb_epoch = 30\n",
    "position_dims = 50"
   ]
  },
  {
   "cell_type": "code",
   "execution_count": 13,
   "id": "816b5abc",
   "metadata": {},
   "outputs": [
    {
     "name": "stdout",
     "output_type": "stream",
     "text": [
      "Load dataset\n"
     ]
    }
   ],
   "source": [
    "print(\"Load dataset\")\n",
    "f = gzip.open('data/causal-relations.pkl.gz', 'rb')\n",
    "data = pkl.load(f)\n",
    "f.close()"
   ]
  },
  {
   "cell_type": "code",
   "execution_count": 14,
   "id": "cc5c8fd6",
   "metadata": {},
   "outputs": [],
   "source": [
    "embeddings = data['wordEmbeddings']\n",
    "yTrain, sentenceTrain, positionTrain1, positionTrain2 = data['train_set']\n",
    "yTest, sentenceTest, positionTest1, positionTest2  = data['test_set']\n",
    "\n",
    "max_position = max(np.max(positionTrain1), np.max(positionTrain2))+1\n",
    "\n",
    "n_out = max(yTrain)+1\n",
    "#train_y_cat = np_utils.to_categorical(yTrain, n_out)\n",
    "max_sentence_len = sentenceTrain.shape[1]"
   ]
  },
  {
   "cell_type": "code",
   "execution_count": 15,
   "id": "c88380e6",
   "metadata": {},
   "outputs": [
    {
     "name": "stdout",
     "output_type": "stream",
     "text": [
      "sentenceTrain:  (8000, 97)\n",
      "positionTrain1:  (8000, 97)\n",
      "yTrain:  (8000,)\n",
      "sentenceTest:  (2717, 97)\n",
      "positionTest1:  (2717, 97)\n",
      "yTest:  (2717,)\n",
      "Embeddings:  (21243, 300)\n"
     ]
    }
   ],
   "source": [
    "print(\"sentenceTrain: \", sentenceTrain.shape)\n",
    "print(\"positionTrain1: \", positionTrain1.shape)\n",
    "print(\"yTrain: \", yTrain.shape)\n",
    "print(\"sentenceTest: \", sentenceTest.shape)\n",
    "print(\"positionTest1: \", positionTest1.shape)\n",
    "print(\"yTest: \", yTest.shape)\n",
    "print(\"Embeddings: \",embeddings.shape)"
   ]
  },
  {
   "cell_type": "markdown",
   "id": "ae66f3c7",
   "metadata": {},
   "source": [
    "# Build the model"
   ]
  },
  {
   "cell_type": "markdown",
   "id": "3438afaa",
   "metadata": {},
   "source": [
    "## This is a CNN for relation classification within a sentence."
   ]
  },
  {
   "cell_type": "code",
   "execution_count": 16,
   "id": "c4f8b143",
   "metadata": {},
   "outputs": [
    {
     "name": "stdout",
     "output_type": "stream",
     "text": [
      "Model: \"model\"\n",
      "__________________________________________________________________________________________________\n",
      "Layer (type)                    Output Shape         Param #     Connected to                     \n",
      "==================================================================================================\n",
      "words_input (InputLayer)        [(None, 97)]         0                                            \n",
      "__________________________________________________________________________________________________\n",
      "distance1_input (InputLayer)    [(None, 97)]         0                                            \n",
      "__________________________________________________________________________________________________\n",
      "distance2_input (InputLayer)    [(None, 97)]         0                                            \n",
      "__________________________________________________________________________________________________\n",
      "embedding (Embedding)           (None, 97, 300)      6372900     words_input[0][0]                \n",
      "__________________________________________________________________________________________________\n",
      "embedding_1 (Embedding)         (None, 97, 50)       3200        distance1_input[0][0]            \n",
      "__________________________________________________________________________________________________\n",
      "embedding_2 (Embedding)         (None, 97, 50)       3200        distance2_input[0][0]            \n",
      "__________________________________________________________________________________________________\n",
      "concatenate (Concatenate)       (None, 97, 400)      0           embedding[0][0]                  \n",
      "                                                                 embedding_1[0][0]                \n",
      "                                                                 embedding_2[0][0]                \n",
      "__________________________________________________________________________________________________\n",
      "conv1d (Conv1D)                 (None, 97, 100)      120100      concatenate[0][0]                \n",
      "__________________________________________________________________________________________________\n",
      "global_max_pooling1d (GlobalMax (None, 100)          0           conv1d[0][0]                     \n",
      "__________________________________________________________________________________________________\n",
      "dropout (Dropout)               (None, 100)          0           global_max_pooling1d[0][0]       \n",
      "__________________________________________________________________________________________________\n",
      "dense (Dense)                   (None, 3)            303         dropout[0][0]                    \n",
      "==================================================================================================\n",
      "Total params: 6,499,703\n",
      "Trainable params: 126,803\n",
      "Non-trainable params: 6,372,900\n",
      "__________________________________________________________________________________________________\n",
      "Start training\n"
     ]
    }
   ],
   "source": [
    "words_input = Input(shape=(max_sentence_len,), dtype='int32', name='words_input')\n",
    "words = Embedding(embeddings.shape[0], embeddings.shape[1], weights=[embeddings], trainable=False)(words_input)\n",
    "\n",
    "distance1_input = Input(shape=(max_sentence_len,), dtype='int32', name='distance1_input')\n",
    "distance1 = Embedding(max_position, position_dims)(distance1_input)\n",
    "\n",
    "distance2_input = Input(shape=(max_sentence_len,), dtype='int32', name='distance2_input')\n",
    "distance2 = Embedding(max_position, position_dims)(distance2_input)\n",
    "\n",
    "output = concatenate([words, distance1, distance2])\n",
    "\n",
    "output = Convolution1D(filters=nb_filter,\n",
    "                        kernel_size=filter_length,\n",
    "                        padding='same',\n",
    "                        activation='tanh',\n",
    "                        strides=1)(output)\n",
    "\n",
    "# standard max over time pooling\n",
    "output = GlobalMaxPooling1D()(output)\n",
    "\n",
    "output = Dropout(0.25)(output)\n",
    "output = Dense(n_out, activation='softmax')(output)\n",
    "model = Model(inputs=[words_input, distance1_input, distance2_input], outputs=[output])\n",
    "model.compile(loss='sparse_categorical_crossentropy',optimizer='Adam', metrics=['accuracy'])\n",
    "model.summary()\n",
    "\n",
    "print(\"Start training\")"
   ]
  },
  {
   "cell_type": "markdown",
   "id": "526f6a53",
   "metadata": {},
   "source": [
    "## Compute f1 score for each epoch in Keras"
   ]
  },
  {
   "cell_type": "markdown",
   "id": "9357c231",
   "metadata": {},
   "source": [
    "### Mathematical equation"
   ]
  },
  {
   "cell_type": "code",
   "execution_count": 18,
   "id": "3b100d29",
   "metadata": {},
   "outputs": [],
   "source": [
    "max_prec, max_rec, max_acc, max_f1 = 0,0,0,0\n",
    "\n",
    "def getPrecision(pred_test, yTest, targetLabel):\n",
    "    #Precision for non-vague\n",
    "    targetLabelCount = 0\n",
    "    correctTargetLabelCount = 0\n",
    "    \n",
    "    for idx in range(len(pred_test)): \n",
    "        if pred_test[idx] == targetLabel:\n",
    "            targetLabelCount += 1\n",
    "            \n",
    "            if pred_test[idx] == yTest[idx]:\n",
    "                correctTargetLabelCount += 1\n",
    "    \n",
    "    if correctTargetLabelCount == 0:\n",
    "        return 0\n",
    "    \n",
    "    return float(correctTargetLabelCount) / targetLabelCount"
   ]
  },
  {
   "cell_type": "code",
   "execution_count": 19,
   "id": "3177857b",
   "metadata": {},
   "outputs": [
    {
     "name": "stdout",
     "output_type": "stream",
     "text": [
      "125/125 [==============================] - 6s 47ms/step - loss: 0.3027 - accuracy: 0.9068\n",
      "Accuracy: 0.9580 (max: 0.9580)\n",
      "Non-other Macro-Averaged F1: 0.7431 (max: 0.7431)\n",
      "\n",
      "125/125 [==============================] - 5s 42ms/step - loss: 0.1221 - accuracy: 0.9625\n",
      "Accuracy: 0.9735 (max: 0.9735)\n",
      "Non-other Macro-Averaged F1: 0.8724 (max: 0.8724)\n",
      "\n",
      "125/125 [==============================] - 5s 41ms/step - loss: 0.0764 - accuracy: 0.9737\n",
      "Accuracy: 0.9772 (max: 0.9772)\n",
      "Non-other Macro-Averaged F1: 0.9084 (max: 0.9084)\n",
      "\n",
      "125/125 [==============================] - 6s 46ms/step - loss: 0.0492 - accuracy: 0.9868\n",
      "Accuracy: 0.9790 (max: 0.9790)\n",
      "Non-other Macro-Averaged F1: 0.9134 (max: 0.9134)\n",
      "\n",
      "125/125 [==============================] - 6s 48ms/step - loss: 0.0306 - accuracy: 0.9931\n",
      "Accuracy: 0.9805 (max: 0.9805)\n",
      "Non-other Macro-Averaged F1: 0.9176 (max: 0.9176)\n",
      "\n",
      "125/125 [==============================] - 6s 47ms/step - loss: 0.0198 - accuracy: 0.9962\n",
      "Accuracy: 0.9787 (max: 0.9805)\n",
      "Non-other Macro-Averaged F1: 0.9170 (max: 0.9176)\n",
      "\n",
      "125/125 [==============================] - 6s 47ms/step - loss: 0.0114 - accuracy: 0.9987\n",
      "Accuracy: 0.9801 (max: 0.9805)\n",
      "Non-other Macro-Averaged F1: 0.9213 (max: 0.9213)\n",
      "\n",
      "125/125 [==============================] - 6s 47ms/step - loss: 0.0079 - accuracy: 0.9995\n",
      "Accuracy: 0.9805 (max: 0.9805)\n",
      "Non-other Macro-Averaged F1: 0.9176 (max: 0.9213)\n",
      "\n",
      "125/125 [==============================] - 6s 48ms/step - loss: 0.0052 - accuracy: 1.0000\n",
      "Accuracy: 0.9809 (max: 0.9809)\n",
      "Non-other Macro-Averaged F1: 0.9176 (max: 0.9213)\n",
      "\n",
      "125/125 [==============================] - 6s 46ms/step - loss: 0.0038 - accuracy: 0.9999\n",
      "Accuracy: 0.9809 (max: 0.9809)\n",
      "Non-other Macro-Averaged F1: 0.9170 (max: 0.9213)\n",
      "\n",
      "125/125 [==============================] - 6s 47ms/step - loss: 0.0032 - accuracy: 1.0000\n",
      "Accuracy: 0.9801 (max: 0.9809)\n",
      "Non-other Macro-Averaged F1: 0.9134 (max: 0.9213)\n",
      "\n",
      "125/125 [==============================] - 6s 47ms/step - loss: 0.0024 - accuracy: 1.0000\n",
      "Accuracy: 0.9805 (max: 0.9809)\n",
      "Non-other Macro-Averaged F1: 0.9163 (max: 0.9213)\n",
      "\n",
      "125/125 [==============================] - 6s 49ms/step - loss: 0.0023 - accuracy: 0.9999\n",
      "Accuracy: 0.9805 (max: 0.9809)\n",
      "Non-other Macro-Averaged F1: 0.9213 (max: 0.9213)\n",
      "\n",
      "125/125 [==============================] - 7s 53ms/step - loss: 0.0017 - accuracy: 1.0000\n",
      "Accuracy: 0.9820 (max: 0.9820)\n",
      "Non-other Macro-Averaged F1: 0.9261 (max: 0.9261)\n",
      "\n",
      "125/125 [==============================] - 6s 49ms/step - loss: 0.0014 - accuracy: 1.0000\n",
      "Accuracy: 0.9809 (max: 0.9820)\n",
      "Non-other Macro-Averaged F1: 0.9219 (max: 0.9261)\n",
      "\n",
      "125/125 [==============================] - 6s 46ms/step - loss: 0.0012 - accuracy: 1.0000\n",
      "Accuracy: 0.9809 (max: 0.9820)\n",
      "Non-other Macro-Averaged F1: 0.9176 (max: 0.9261)\n",
      "\n",
      "125/125 [==============================] - 6s 46ms/step - loss: 0.0010 - accuracy: 1.0000\n",
      "Accuracy: 0.9816 (max: 0.9820)\n",
      "Non-other Macro-Averaged F1: 0.9255 (max: 0.9261)\n",
      "\n",
      "125/125 [==============================] - 6s 50ms/step - loss: 9.0077e-04 - accuracy: 1.0000\n",
      "Accuracy: 0.9816 (max: 0.9820)\n",
      "Non-other Macro-Averaged F1: 0.9308 (max: 0.9308)\n",
      "\n",
      "125/125 [==============================] - 7s 59ms/step - loss: 8.0729e-04 - accuracy: 1.0000\n",
      "Accuracy: 0.9820 (max: 0.9820)\n",
      "Non-other Macro-Averaged F1: 0.9261 (max: 0.9308)\n",
      "\n",
      "125/125 [==============================] - 7s 56ms/step - loss: 7.2028e-04 - accuracy: 1.0000\n",
      "Accuracy: 0.9816 (max: 0.9820)\n",
      "Non-other Macro-Averaged F1: 0.9213 (max: 0.9308)\n",
      "\n",
      "125/125 [==============================] - 6s 51ms/step - loss: 6.8508e-04 - accuracy: 1.0000\n",
      "Accuracy: 0.9805 (max: 0.9820)\n",
      "Non-other Macro-Averaged F1: 0.9225 (max: 0.9308)\n",
      "\n",
      "125/125 [==============================] - 6s 47ms/step - loss: 5.5162e-04 - accuracy: 1.0000\n",
      "Accuracy: 0.9812 (max: 0.9820)\n",
      "Non-other Macro-Averaged F1: 0.9219 (max: 0.9308)\n",
      "\n",
      "125/125 [==============================] - 6s 48ms/step - loss: 5.5006e-04 - accuracy: 1.0000\n",
      "Accuracy: 0.9820 (max: 0.9820)\n",
      "Non-other Macro-Averaged F1: 0.9249 (max: 0.9308)\n",
      "\n",
      "125/125 [==============================] - 8s 63ms/step - loss: 4.5276e-04 - accuracy: 1.0000\n",
      "Accuracy: 0.9805 (max: 0.9820)\n",
      "Non-other Macro-Averaged F1: 0.9176 (max: 0.9308)\n",
      "\n",
      "125/125 [==============================] - 8s 61ms/step - loss: 4.0303e-04 - accuracy: 1.0000\n",
      "Accuracy: 0.9812 (max: 0.9820)\n",
      "Non-other Macro-Averaged F1: 0.9261 (max: 0.9308)\n",
      "\n",
      "125/125 [==============================] - 5s 42ms/step - loss: 3.6473e-04 - accuracy: 1.0000\n",
      "Accuracy: 0.9823 (max: 0.9823)\n",
      "Non-other Macro-Averaged F1: 0.9297 (max: 0.9308)\n",
      "\n",
      "125/125 [==============================] - 5s 42ms/step - loss: 3.1278e-04 - accuracy: 1.0000\n",
      "Accuracy: 0.9827 (max: 0.9827)\n",
      "Non-other Macro-Averaged F1: 0.9375 (max: 0.9375)\n",
      "\n",
      "125/125 [==============================] - 5s 41ms/step - loss: 2.6132e-04 - accuracy: 1.0000\n",
      "Accuracy: 0.9816 (max: 0.9827)\n",
      "Non-other Macro-Averaged F1: 0.9297 (max: 0.9375)\n",
      "\n",
      "125/125 [==============================] - 5s 41ms/step - loss: 2.4994e-04 - accuracy: 1.0000\n",
      "Accuracy: 0.9816 (max: 0.9827)\n",
      "Non-other Macro-Averaged F1: 0.9249 (max: 0.9375)\n",
      "\n",
      "125/125 [==============================] - 5s 41ms/step - loss: 2.2579e-04 - accuracy: 1.0000\n",
      "Accuracy: 0.9816 (max: 0.9827)\n",
      "Non-other Macro-Averaged F1: 0.9249 (max: 0.9375)\n",
      "\n"
     ]
    }
   ],
   "source": [
    "def predict_classes(prediction):\n",
    "    \n",
    "    return prediction.argmax(axis=-1)\n",
    "\n",
    "for epoch in range(nb_epoch):       \n",
    "    model.fit([sentenceTrain, positionTrain1, positionTrain2], yTrain, batch_size=batch_size, verbose=True,epochs=1)   \n",
    "    pred_test_ini = model.predict([sentenceTest, positionTest1, positionTest2], verbose=False)\n",
    "    pred_test = predict_classes(pred_test_ini)\n",
    "    \n",
    "    dctLabels = np.sum(pred_test)\n",
    "    totalDCTLabels = np.sum(yTest)\n",
    "   \n",
    "    acc =  np.sum(pred_test == yTest) / float(len(yTest))\n",
    "    max_acc = max(max_acc, acc)\n",
    "    print(\"Accuracy: %.4f (max: %.4f)\" % (acc, max_acc))\n",
    "\n",
    "    f1Sum = 0\n",
    "    f1Count = 0\n",
    "    for targetLabel in range(1, max(yTest)):        \n",
    "        prec = getPrecision(pred_test, yTest, targetLabel)\n",
    "        recall = getPrecision(yTest, pred_test, targetLabel)\n",
    "        f1 = 0 if (prec+recall) == 0 else 2*prec*recall/(prec+recall)\n",
    "        f1Sum += f1\n",
    "        f1Count +=1    \n",
    "        \n",
    "        \n",
    "    macroF1 = f1Sum / float(f1Count)    \n",
    "    max_f1 = max(max_f1, macroF1)\n",
    "    print(\"Non-other Macro-Averaged F1: %.4f (max: %.4f)\\n\" % (macroF1, max_f1))"
   ]
  },
  {
   "cell_type": "code",
   "execution_count": 20,
   "id": "1df5b68a",
   "metadata": {},
   "outputs": [],
   "source": [
    "model.save('model/causal_rel_model.h5')  # creates a HDF5 file 'my_model.h5'"
   ]
  },
  {
   "cell_type": "markdown",
   "id": "85a550a9",
   "metadata": {},
   "source": [
    "### Add validation_split and EarlyStopping on val_accuracy"
   ]
  },
  {
   "cell_type": "markdown",
   "id": "3e635d9c",
   "metadata": {},
   "source": [
    "#### Rebuild the model"
   ]
  },
  {
   "cell_type": "code",
   "execution_count": 22,
   "id": "6ee5618c",
   "metadata": {},
   "outputs": [
    {
     "name": "stdout",
     "output_type": "stream",
     "text": [
      "Model: \"model_1\"\n",
      "__________________________________________________________________________________________________\n",
      "Layer (type)                    Output Shape         Param #     Connected to                     \n",
      "==================================================================================================\n",
      "words_input (InputLayer)        [(None, 97)]         0                                            \n",
      "__________________________________________________________________________________________________\n",
      "distance1_input (InputLayer)    [(None, 97)]         0                                            \n",
      "__________________________________________________________________________________________________\n",
      "distance2_input (InputLayer)    [(None, 97)]         0                                            \n",
      "__________________________________________________________________________________________________\n",
      "embedding_3 (Embedding)         (None, 97, 300)      6372900     words_input[0][0]                \n",
      "__________________________________________________________________________________________________\n",
      "embedding_4 (Embedding)         (None, 97, 50)       3200        distance1_input[0][0]            \n",
      "__________________________________________________________________________________________________\n",
      "embedding_5 (Embedding)         (None, 97, 50)       3200        distance2_input[0][0]            \n",
      "__________________________________________________________________________________________________\n",
      "concatenate_1 (Concatenate)     (None, 97, 400)      0           embedding_3[0][0]                \n",
      "                                                                 embedding_4[0][0]                \n",
      "                                                                 embedding_5[0][0]                \n",
      "__________________________________________________________________________________________________\n",
      "conv1d_1 (Conv1D)               (None, 97, 100)      120100      concatenate_1[0][0]              \n",
      "__________________________________________________________________________________________________\n",
      "global_max_pooling1d_1 (GlobalM (None, 100)          0           conv1d_1[0][0]                   \n",
      "__________________________________________________________________________________________________\n",
      "dropout_1 (Dropout)             (None, 100)          0           global_max_pooling1d_1[0][0]     \n",
      "__________________________________________________________________________________________________\n",
      "dense_1 (Dense)                 (None, 3)            303         dropout_1[0][0]                  \n",
      "==================================================================================================\n",
      "Total params: 6,499,703\n",
      "Trainable params: 126,803\n",
      "Non-trainable params: 6,372,900\n",
      "__________________________________________________________________________________________________\n",
      "Start training\n"
     ]
    }
   ],
   "source": [
    "words_input = Input(shape=(max_sentence_len,), dtype='int32', name='words_input')\n",
    "words = Embedding(embeddings.shape[0], embeddings.shape[1], weights=[embeddings], trainable=False)(words_input)\n",
    "\n",
    "distance1_input = Input(shape=(max_sentence_len,), dtype='int32', name='distance1_input')\n",
    "distance1 = Embedding(max_position, position_dims)(distance1_input)\n",
    "\n",
    "distance2_input = Input(shape=(max_sentence_len,), dtype='int32', name='distance2_input')\n",
    "distance2 = Embedding(max_position, position_dims)(distance2_input)\n",
    "\n",
    "output = concatenate([words, distance1, distance2])\n",
    "\n",
    "output = Convolution1D(filters=nb_filter,\n",
    "                        kernel_size=filter_length,\n",
    "                        padding='same',\n",
    "                        activation='tanh',\n",
    "                        strides=1)(output)\n",
    "\n",
    "# standard max over time pooling\n",
    "output = GlobalMaxPooling1D()(output)\n",
    "\n",
    "output = Dropout(0.25)(output)\n",
    "output = Dense(n_out, activation='softmax')(output)\n",
    "model = Model(inputs=[words_input, distance1_input, distance2_input], outputs=[output])\n",
    "model.compile(loss='sparse_categorical_crossentropy',optimizer='Adam', metrics=['accuracy'])\n",
    "model.summary()\n",
    "\n",
    "print(\"Start training\")"
   ]
  },
  {
   "cell_type": "code",
   "execution_count": 23,
   "id": "410d2808",
   "metadata": {},
   "outputs": [
    {
     "name": "stdout",
     "output_type": "stream",
     "text": [
      "Epoch 1/125\n",
      "100/100 [==============================] - 5s 49ms/step - loss: 0.3444 - accuracy: 0.8966 - val_loss: 0.1878 - val_accuracy: 0.9219\n",
      "Epoch 2/125\n",
      "100/100 [==============================] - 5s 51ms/step - loss: 0.1232 - accuracy: 0.9675 - val_loss: 0.1134 - val_accuracy: 0.9531\n",
      "Epoch 3/125\n",
      "100/100 [==============================] - 5s 51ms/step - loss: 0.0715 - accuracy: 0.9794 - val_loss: 0.0859 - val_accuracy: 0.9844\n",
      "Epoch 4/125\n",
      "100/100 [==============================] - 6s 58ms/step - loss: 0.0497 - accuracy: 0.9855 - val_loss: 0.0874 - val_accuracy: 0.9844\n",
      "Epoch 5/125\n",
      "100/100 [==============================] - 5s 50ms/step - loss: 0.0309 - accuracy: 0.9917 - val_loss: 0.0889 - val_accuracy: 0.9844\n"
     ]
    }
   ],
   "source": [
    "from keras.callbacks import ModelCheckpoint, EarlyStopping\n",
    "history=model.fit([sentenceTrain, positionTrain1, positionTrain2], yTrain, batch_size=batch_size, verbose=True,epochs=125,validation_steps=1,validation_split=0.2, callbacks=[\n",
    "        EarlyStopping(monitor='val_accuracy', patience=2),\n",
    "        ModelCheckpoint('models/cnn_model.h5')\n",
    "    ],)"
   ]
  },
  {
   "cell_type": "markdown",
   "id": "4cfe74ac",
   "metadata": {},
   "source": [
    "### Keras macro custom_F1"
   ]
  },
  {
   "cell_type": "code",
   "execution_count": 28,
   "id": "7bec8c61",
   "metadata": {},
   "outputs": [],
   "source": [
    "### Define F1 measures: F1 = 2 * (precision * recall) / (precision + recall)\n",
    "from tensorflow.keras import backend as K\n",
    "\n",
    "def custom_f1(y_true, y_pred):    \n",
    "    def recall_m(y_true, y_pred):\n",
    "        TP = K.sum(K.round(K.clip(y_true * y_pred, 0, 1)))\n",
    "        Positives = K.sum(K.round(K.clip(y_true, 0, 1)))\n",
    "        \n",
    "        recall = TP / (Positives+K.epsilon())    \n",
    "        return recall \n",
    "    \n",
    "    \n",
    "    def precision_m(y_true, y_pred):\n",
    "        TP = K.sum(K.round(K.clip(y_true * y_pred, 0, 1)))\n",
    "        Pred_Positives = K.sum(K.round(K.clip(y_pred, 0, 1)))\n",
    "    \n",
    "        precision = TP / (Pred_Positives+K.epsilon())\n",
    "        return precision \n",
    "    \n",
    "    precision, recall = precision_m(y_true, y_pred), recall_m(y_true, y_pred)\n",
    "    \n",
    "    return 2*((precision*recall)/(precision+recall+K.epsilon()))"
   ]
  },
  {
   "cell_type": "code",
   "execution_count": 29,
   "id": "275d4f35",
   "metadata": {},
   "outputs": [
    {
     "name": "stdout",
     "output_type": "stream",
     "text": [
      "Model: \"model_3\"\n",
      "__________________________________________________________________________________________________\n",
      "Layer (type)                    Output Shape         Param #     Connected to                     \n",
      "==================================================================================================\n",
      "words_input (InputLayer)        [(None, 97)]         0                                            \n",
      "__________________________________________________________________________________________________\n",
      "distance1_input (InputLayer)    [(None, 97)]         0                                            \n",
      "__________________________________________________________________________________________________\n",
      "distance2_input (InputLayer)    [(None, 97)]         0                                            \n",
      "__________________________________________________________________________________________________\n",
      "embedding_9 (Embedding)         (None, 97, 300)      6372900     words_input[0][0]                \n",
      "__________________________________________________________________________________________________\n",
      "embedding_10 (Embedding)        (None, 97, 50)       3200        distance1_input[0][0]            \n",
      "__________________________________________________________________________________________________\n",
      "embedding_11 (Embedding)        (None, 97, 50)       3200        distance2_input[0][0]            \n",
      "__________________________________________________________________________________________________\n",
      "concatenate_3 (Concatenate)     (None, 97, 400)      0           embedding_9[0][0]                \n",
      "                                                                 embedding_10[0][0]               \n",
      "                                                                 embedding_11[0][0]               \n",
      "__________________________________________________________________________________________________\n",
      "conv1d_3 (Conv1D)               (None, 97, 100)      120100      concatenate_3[0][0]              \n",
      "__________________________________________________________________________________________________\n",
      "global_max_pooling1d_3 (GlobalM (None, 100)          0           conv1d_3[0][0]                   \n",
      "__________________________________________________________________________________________________\n",
      "dropout_3 (Dropout)             (None, 100)          0           global_max_pooling1d_3[0][0]     \n",
      "__________________________________________________________________________________________________\n",
      "dense_3 (Dense)                 (None, 3)            303         dropout_3[0][0]                  \n",
      "==================================================================================================\n",
      "Total params: 6,499,703\n",
      "Trainable params: 126,803\n",
      "Non-trainable params: 6,372,900\n",
      "__________________________________________________________________________________________________\n",
      "Start training\n"
     ]
    }
   ],
   "source": [
    "#Rebuild the model\n",
    "words_input = Input(shape=(max_sentence_len,), dtype='int32', name='words_input')\n",
    "words = Embedding(embeddings.shape[0], embeddings.shape[1], weights=[embeddings], trainable=False)(words_input)\n",
    "\n",
    "distance1_input = Input(shape=(max_sentence_len,), dtype='int32', name='distance1_input')\n",
    "distance1 = Embedding(max_position, position_dims)(distance1_input)\n",
    "\n",
    "distance2_input = Input(shape=(max_sentence_len,), dtype='int32', name='distance2_input')\n",
    "distance2 = Embedding(max_position, position_dims)(distance2_input)\n",
    "\n",
    "output = concatenate([words, distance1, distance2])\n",
    "\n",
    "output = Convolution1D(filters=nb_filter,\n",
    "                        kernel_size=filter_length,\n",
    "                        padding='same',\n",
    "                        activation='tanh',\n",
    "                        strides=1)(output)\n",
    "\n",
    "# standard max over time pooling\n",
    "output = GlobalMaxPooling1D()(output)\n",
    "\n",
    "output = Dropout(0.25)(output)\n",
    "output = Dense(n_out, activation='softmax')(output)\n",
    "model = Model(inputs=[words_input, distance1_input, distance2_input], outputs=[output])\n",
    "model.compile(loss='sparse_categorical_crossentropy',optimizer='Adam', metrics=['accuracy',custom_f1])\n",
    "model.summary()\n",
    "\n",
    "print(\"Start training\")"
   ]
  },
  {
   "cell_type": "code",
   "execution_count": 30,
   "id": "8fa14864",
   "metadata": {},
   "outputs": [
    {
     "name": "stdout",
     "output_type": "stream",
     "text": [
      "Epoch 1/125\n",
      "100/100 [==============================] - 6s 56ms/step - loss: 0.2991 - accuracy: 0.9089 - custom_f1: 0.2435 - val_loss: 0.1407 - val_accuracy: 0.9531 - val_custom_f1: 0.2778\n",
      "Epoch 2/125\n",
      "100/100 [==============================] - 5s 55ms/step - loss: 0.1084 - accuracy: 0.9697 - custom_f1: 0.2253 - val_loss: 0.0886 - val_accuracy: 0.9844 - val_custom_f1: 0.2740\n",
      "Epoch 3/125\n",
      "100/100 [==============================] - 6s 56ms/step - loss: 0.0657 - accuracy: 0.9797 - custom_f1: 0.2242 - val_loss: 0.0807 - val_accuracy: 0.9844 - val_custom_f1: 0.2466\n",
      "Epoch 4/125\n",
      "100/100 [==============================] - 6s 57ms/step - loss: 0.0442 - accuracy: 0.9878 - custom_f1: 0.2233 - val_loss: 0.0852 - val_accuracy: 0.9844 - val_custom_f1: 0.2740\n",
      "Epoch 5/125\n",
      "100/100 [==============================] - 6s 56ms/step - loss: 0.0267 - accuracy: 0.9939 - custom_f1: 0.2182 - val_loss: 0.0831 - val_accuracy: 0.9844 - val_custom_f1: 0.2466\n"
     ]
    }
   ],
   "source": [
    "from keras.callbacks import ModelCheckpoint, EarlyStopping\n",
    "history=model.fit([sentenceTrain, positionTrain1, positionTrain2], yTrain, batch_size=batch_size, verbose=True,epochs=125,validation_steps=1,validation_split=0.2, callbacks=[\n",
    "        EarlyStopping(monitor='val_custom_f1', patience=2),\n",
    "        ModelCheckpoint('models/cnn_model_keras_f1.h5')\n",
    "    ],)"
   ]
  },
  {
   "cell_type": "markdown",
   "id": "258ca047",
   "metadata": {},
   "source": [
    "# Evaluate the model "
   ]
  },
  {
   "cell_type": "markdown",
   "id": "2db36197",
   "metadata": {},
   "source": [
    "### Accuracy graph"
   ]
  },
  {
   "cell_type": "code",
   "execution_count": 121,
   "id": "2698a377",
   "metadata": {},
   "outputs": [
    {
     "data": {
      "image/png": "[encoded data removed]",
      "text/plain": [
       "<Figure size 432x288 with 1 Axes>"
      ]
     },
     "metadata": {
      "needs_background": "light"
     },
     "output_type": "display_data"
    }
   ],
   "source": [
    "import matplotlib.pyplot as plt\n",
    "# summarize history for accuracy\n",
    "plt.plot(history.history['accuracy'])\n",
    "plt.plot(history.history['val_accuracy'])\n",
    "plt.title('model accuracy')\n",
    "plt.ylabel('accuracy')\n",
    "plt.xlabel('epoch')\n",
    "plt.legend(['train', 'test'], loc='upper left')\n",
    "plt.show()"
   ]
  },
  {
   "cell_type": "markdown",
   "id": "c123c198",
   "metadata": {},
   "source": [
    "### Loss graph"
   ]
  },
  {
   "cell_type": "code",
   "execution_count": 122,
   "id": "b814a599",
   "metadata": {},
   "outputs": [
    {
     "data": {
      "image/png": "[encoded data removed]",
      "text/plain": [
       "<Figure size 432x288 with 1 Axes>"
      ]
     },
     "metadata": {
      "needs_background": "light"
     },
     "output_type": "display_data"
    }
   ],
   "source": [
    "# summarize history for loss\n",
    "plt.plot(history.history['loss'])\n",
    "plt.plot(history.history['val_loss'])\n",
    "plt.title('model loss')\n",
    "plt.ylabel('loss')\n",
    "plt.xlabel('epoch')\n",
    "plt.legend(['train', 'test'], loc='upper left')\n",
    "plt.show()"
   ]
  },
  {
   "cell_type": "markdown",
   "id": "2117e6c9",
   "metadata": {},
   "source": [
    "From the plot of loss, we can see that the model has comparable performance on both train and validation datasets (labeled test)."
   ]
  },
  {
   "cell_type": "markdown",
   "id": "c26d5861",
   "metadata": {},
   "source": [
    "### Sklearn micro and macro avg\n",
    "Les moyennes micro et macro (quelle que soit la métrique) calculent des choses légèrement différentes, et donc leur interprétation diffère. Une macro-moyenne calcule la métrique indépendamment pour chaque classe, puis prend la moyenne (donc toutes les classes sont traitées de manière égale), tandis qu'une micro-moyenne agrégera les contributions de toutes les classes pour calculer la métrique moyenne. "
   ]
  },
  {
   "cell_type": "code",
   "execution_count": null,
   "id": "5b0c8e93",
   "metadata": {},
   "outputs": [],
   "source": [
    "model = load_model('model/causal_rel_model.h5')"
   ]
  },
  {
   "cell_type": "code",
   "execution_count": 32,
   "id": "2a28f80d",
   "metadata": {},
   "outputs": [],
   "source": [
    "from sklearn.metrics import f1_score"
   ]
  },
  {
   "cell_type": "code",
   "execution_count": 33,
   "id": "769ab5b2",
   "metadata": {},
   "outputs": [
    {
     "data": {
      "text/plain": [
       "0.9423787543676397"
      ]
     },
     "execution_count": 33,
     "metadata": {},
     "output_type": "execute_result"
    }
   ],
   "source": [
    "f1_score(yTest, pred_test, average='macro')"
   ]
  },
  {
   "cell_type": "code",
   "execution_count": 34,
   "id": "f02d6e38",
   "metadata": {},
   "outputs": [
    {
     "data": {
      "text/plain": [
       "0.9815973500184026"
      ]
     },
     "execution_count": 34,
     "metadata": {},
     "output_type": "execute_result"
    }
   ],
   "source": [
    "f1_score(yTest, pred_test, average='micro')"
   ]
  },
  {
   "cell_type": "code",
   "execution_count": 35,
   "id": "6c94b4b2",
   "metadata": {},
   "outputs": [
    {
     "data": {
      "text/plain": [
       "0.981380741347552"
      ]
     },
     "execution_count": 35,
     "metadata": {},
     "output_type": "execute_result"
    }
   ],
   "source": [
    "f1_score(yTest, pred_test, average='weighted')"
   ]
  },
  {
   "cell_type": "code",
   "execution_count": 36,
   "id": "b341e635",
   "metadata": {},
   "outputs": [
    {
     "data": {
      "text/plain": [
       "array([0.99040867, 0.93333333, 0.90339426])"
      ]
     },
     "execution_count": 36,
     "metadata": {},
     "output_type": "execute_result"
    }
   ],
   "source": [
    "f1_score(yTest, pred_test, average=None)"
   ]
  },
  {
   "cell_type": "code",
   "execution_count": 44,
   "id": "ff91db69",
   "metadata": {},
   "outputs": [],
   "source": [
    "pred_train_ini=model.predict([sentenceTrain, positionTrain1, positionTrain2], verbose=False)\n",
    "pred_train_ini.shape\n",
    "pred_train=predict_classes(pred_train_ini)"
   ]
  },
  {
   "cell_type": "code",
   "execution_count": 27,
   "id": "72a3df2b",
   "metadata": {},
   "outputs": [],
   "source": [
    "from sklearn.metrics import classification_report, confusion_matrix"
   ]
  },
  {
   "cell_type": "code",
   "execution_count": 29,
   "id": "6a179b93",
   "metadata": {
    "scrolled": true
   },
   "outputs": [
    {
     "name": "stdout",
     "output_type": "stream",
     "text": [
      "              precision    recall  f1-score   support\n",
      "\n",
      "           0       0.99      0.99      0.99      2389\n",
      "           1       0.98      0.89      0.93       134\n",
      "           2       0.92      0.89      0.90       194\n",
      "\n",
      "    accuracy                           0.98      2717\n",
      "   macro avg       0.96      0.92      0.94      2717\n",
      "weighted avg       0.98      0.98      0.98      2717\n",
      "\n"
     ]
    }
   ],
   "source": [
    "print(classification_report(yTest, pred_test))"
   ]
  },
  {
   "cell_type": "code",
   "execution_count": 30,
   "id": "838924aa",
   "metadata": {},
   "outputs": [
    {
     "name": "stdout",
     "output_type": "stream",
     "text": [
      "[[2375    2   12]\n",
      " [  11  119    4]\n",
      " [  21    0  173]]\n"
     ]
    }
   ],
   "source": [
    "print(confusion_matrix(yTest, pred_test))"
   ]
  },
  {
   "cell_type": "code",
   "execution_count": 40,
   "id": "35fa7422",
   "metadata": {},
   "outputs": [
    {
     "data": {
      "text/plain": [
       "(2717, 3)"
      ]
     },
     "execution_count": 40,
     "metadata": {},
     "output_type": "execute_result"
    }
   ],
   "source": [
    "pred_test.shape"
   ]
  },
  {
   "cell_type": "code",
   "execution_count": 41,
   "id": "0727105a",
   "metadata": {},
   "outputs": [
    {
     "data": {
      "text/plain": [
       "(8000,)"
      ]
     },
     "execution_count": 41,
     "metadata": {},
     "output_type": "execute_result"
    }
   ],
   "source": [
    "yTrain.shape"
   ]
  },
  {
   "cell_type": "code",
   "execution_count": 45,
   "id": "f3727586",
   "metadata": {},
   "outputs": [
    {
     "name": "stdout",
     "output_type": "stream",
     "text": [
      "              precision    recall  f1-score   support\n",
      "\n",
      "           0       1.00      1.00      1.00      6997\n",
      "           1       1.00      1.00      1.00       344\n",
      "           2       1.00      1.00      1.00       659\n",
      "\n",
      "    accuracy                           1.00      8000\n",
      "   macro avg       1.00      1.00      1.00      8000\n",
      "weighted avg       1.00      1.00      1.00      8000\n",
      "\n"
     ]
    }
   ],
   "source": [
    "print(classification_report(yTrain, pred_train))"
   ]
  },
  {
   "cell_type": "markdown",
   "id": "09fc51c4",
   "metadata": {},
   "source": [
    "# ReduceLROnPlateau"
   ]
  },
  {
   "cell_type": "code",
   "execution_count": 90,
   "id": "9c4454df",
   "metadata": {},
   "outputs": [],
   "source": [
    "from keras.callbacks import ReduceLROnPlateau"
   ]
  },
  {
   "cell_type": "code",
   "execution_count": 91,
   "id": "32f09f1a",
   "metadata": {},
   "outputs": [],
   "source": [
    "reduce_lr = ReduceLROnPlateau(monitor='val_loss', factor=0.2,\n",
    "                              patience=5, min_lr=0.001)"
   ]
  },
  {
   "cell_type": "code",
   "execution_count": 92,
   "id": "99358520",
   "metadata": {},
   "outputs": [
    {
     "name": "stdout",
     "output_type": "stream",
     "text": [
      "Model: \"model_4\"\n",
      "__________________________________________________________________________________________________\n",
      "Layer (type)                    Output Shape         Param #     Connected to                     \n",
      "==================================================================================================\n",
      "words_input (InputLayer)        [(None, 97)]         0                                            \n",
      "__________________________________________________________________________________________________\n",
      "distance1_input (InputLayer)    [(None, 97)]         0                                            \n",
      "__________________________________________________________________________________________________\n",
      "distance2_input (InputLayer)    [(None, 97)]         0                                            \n",
      "__________________________________________________________________________________________________\n",
      "embedding_12 (Embedding)        (None, 97, 300)      6372900     words_input[0][0]                \n",
      "__________________________________________________________________________________________________\n",
      "embedding_13 (Embedding)        (None, 97, 50)       3200        distance1_input[0][0]            \n",
      "__________________________________________________________________________________________________\n",
      "embedding_14 (Embedding)        (None, 97, 50)       3200        distance2_input[0][0]            \n",
      "__________________________________________________________________________________________________\n",
      "concatenate_4 (Concatenate)     (None, 97, 400)      0           embedding_12[0][0]               \n",
      "                                                                 embedding_13[0][0]               \n",
      "                                                                 embedding_14[0][0]               \n",
      "__________________________________________________________________________________________________\n",
      "conv1d_4 (Conv1D)               (None, 97, 100)      120100      concatenate_4[0][0]              \n",
      "__________________________________________________________________________________________________\n",
      "global_max_pooling1d_4 (GlobalM (None, 100)          0           conv1d_4[0][0]                   \n",
      "__________________________________________________________________________________________________\n",
      "dropout_4 (Dropout)             (None, 100)          0           global_max_pooling1d_4[0][0]     \n",
      "__________________________________________________________________________________________________\n",
      "dense_4 (Dense)                 (None, 3)            303         dropout_4[0][0]                  \n",
      "==================================================================================================\n",
      "Total params: 6,499,703\n",
      "Trainable params: 126,803\n",
      "Non-trainable params: 6,372,900\n",
      "__________________________________________________________________________________________________\n",
      "Start training\n"
     ]
    }
   ],
   "source": [
    "words_input = Input(shape=(max_sentence_len,), dtype='int32', name='words_input')\n",
    "words = Embedding(embeddings.shape[0], embeddings.shape[1], weights=[embeddings], trainable=False)(words_input)\n",
    "\n",
    "distance1_input = Input(shape=(max_sentence_len,), dtype='int32', name='distance1_input')\n",
    "distance1 = Embedding(max_position, position_dims)(distance1_input)\n",
    "\n",
    "distance2_input = Input(shape=(max_sentence_len,), dtype='int32', name='distance2_input')\n",
    "distance2 = Embedding(max_position, position_dims)(distance2_input)\n",
    "\n",
    "output = concatenate([words, distance1, distance2])\n",
    "\n",
    "output = Convolution1D(filters=nb_filter,\n",
    "                        kernel_size=filter_length,\n",
    "                        padding='same',\n",
    "                        activation='tanh',\n",
    "                        strides=1)(output)\n",
    "\n",
    "# standard max over time pooling\n",
    "output = GlobalMaxPooling1D()(output)\n",
    "\n",
    "output = Dropout(0.25)(output)\n",
    "output = Dense(n_out, activation='softmax')(output)\n",
    "model = Model(inputs=[words_input, distance1_input, distance2_input], outputs=[output])\n",
    "model.compile(loss='sparse_categorical_crossentropy',optimizer='Adam', metrics=['accuracy',custom_f1])\n",
    "model.summary()\n",
    "\n",
    "print(\"Start training\")"
   ]
  },
  {
   "cell_type": "code",
   "execution_count": 93,
   "id": "1cd01067",
   "metadata": {},
   "outputs": [
    {
     "name": "stdout",
     "output_type": "stream",
     "text": [
      "Epoch 1/125\n",
      "100/100 [==============================] - 4s 41ms/step - loss: 0.2865 - accuracy: 0.9147 - custom_f1: 0.2380 - val_loss: 0.1601 - val_accuracy: 0.9219 - val_custom_f1: 0.2500\n",
      "Epoch 2/125\n",
      "100/100 [==============================] - 4s 41ms/step - loss: 0.1065 - accuracy: 0.9722 - custom_f1: 0.2261 - val_loss: 0.1044 - val_accuracy: 0.9844 - val_custom_f1: 0.2740\n",
      "Epoch 3/125\n",
      "100/100 [==============================] - 4s 41ms/step - loss: 0.0635 - accuracy: 0.9803 - custom_f1: 0.2262 - val_loss: 0.0867 - val_accuracy: 0.9844 - val_custom_f1: 0.2466\n",
      "Epoch 4/125\n",
      "100/100 [==============================] - 4s 41ms/step - loss: 0.0387 - accuracy: 0.9886 - custom_f1: 0.2215 - val_loss: 0.0820 - val_accuracy: 0.9844 - val_custom_f1: 0.2466\n"
     ]
    }
   ],
   "source": [
    "from keras.callbacks import ModelCheckpoint, EarlyStopping\n",
    "history=model.fit([sentenceTrain, positionTrain1, positionTrain2], yTrain, batch_size=batch_size, verbose=True,epochs=125,validation_steps=1,validation_split=0.2, callbacks=[\n",
    "        EarlyStopping(monitor='val_accuracy', patience=2),\n",
    "        ModelCheckpoint('models/cnn_model_keras_f1.h5'),reduce_lr\n",
    "    ],)"
   ]
  },
  {
   "cell_type": "markdown",
   "id": "c9e43d4a",
   "metadata": {},
   "source": [
    "#  Compute f1 score for each epoch in Keras"
   ]
  },
  {
   "cell_type": "markdown",
   "id": "563dacf4",
   "metadata": {},
   "source": [
    "### Split train dataset into train and val"
   ]
  },
  {
   "cell_type": "code",
   "execution_count": 22,
   "id": "6f2b7a7d",
   "metadata": {},
   "outputs": [],
   "source": [
    "#Split train dataset into train and val\n",
    "from sklearn.model_selection import train_test_split"
   ]
  },
  {
   "cell_type": "code",
   "execution_count": 23,
   "id": "06939ecf",
   "metadata": {},
   "outputs": [],
   "source": [
    "sentenceTrain0,sentenceVal0, positionTrain01, positionVal01, positionTrain02, positionVal02,yTrain0,yVal0=train_test_split(sentenceTrain, positionTrain1, positionTrain2,yTrain, test_size = 0.2)"
   ]
  },
  {
   "cell_type": "code",
   "execution_count": 24,
   "id": "a8611e06",
   "metadata": {},
   "outputs": [
    {
     "name": "stdout",
     "output_type": "stream",
     "text": [
      "sentenceTrain:  (8000, 97)\n",
      "positionTrain1:  (8000, 97)\n",
      "positionTr2:  (8000, 97)\n"
     ]
    }
   ],
   "source": [
    "print(\"sentenceTrain: \", sentenceTrain.shape)\n",
    "print(\"positionTrain1: \", positionTrain1.shape)\n",
    "print(\"positionTr2: \", positionTrain2.shape)"
   ]
  },
  {
   "cell_type": "code",
   "execution_count": 25,
   "id": "9eea5b49",
   "metadata": {},
   "outputs": [
    {
     "name": "stdout",
     "output_type": "stream",
     "text": [
      "sentenceTrain:  (6400, 97)\n",
      "positionTrain1:  (6400, 97)\n",
      "positionTrain2:  (6400, 97)\n",
      "yTrain:  (6400,)\n"
     ]
    }
   ],
   "source": [
    "print(\"sentenceTrain: \", sentenceTrain0.shape)\n",
    "print(\"positionTrain1: \", positionTrain01.shape)\n",
    "print(\"positionTrain2: \", positionTrain02.shape)\n",
    "print(\"yTrain: \", yTrain0.shape)"
   ]
  },
  {
   "cell_type": "code",
   "execution_count": 26,
   "id": "9959503c",
   "metadata": {},
   "outputs": [
    {
     "name": "stdout",
     "output_type": "stream",
     "text": [
      "sentenceVal:  (1600, 97)\n",
      "positionVal1:  (1600, 97)\n",
      "positionVal2:  (1600, 97)\n",
      "yVal:  (1600,)\n"
     ]
    }
   ],
   "source": [
    "print(\"sentenceVal: \", sentenceVal0.shape)\n",
    "print(\"positionVal1: \", positionVal01.shape)\n",
    "print(\"positionVal2: \", positionVal02.shape)\n",
    "print(\"yVal: \", yVal0.shape)"
   ]
  },
  {
   "cell_type": "code",
   "execution_count": 27,
   "id": "78525f92",
   "metadata": {},
   "outputs": [
    {
     "name": "stdout",
     "output_type": "stream",
     "text": [
      "Model: \"model\"\n",
      "__________________________________________________________________________________________________\n",
      "Layer (type)                    Output Shape         Param #     Connected to                     \n",
      "==================================================================================================\n",
      "words_input (InputLayer)        [(None, 97)]         0                                            \n",
      "__________________________________________________________________________________________________\n",
      "distance1_input (InputLayer)    [(None, 97)]         0                                            \n",
      "__________________________________________________________________________________________________\n",
      "distance2_input (InputLayer)    [(None, 97)]         0                                            \n",
      "__________________________________________________________________________________________________\n",
      "embedding (Embedding)           (None, 97, 300)      6372900     words_input[0][0]                \n",
      "__________________________________________________________________________________________________\n",
      "embedding_1 (Embedding)         (None, 97, 50)       3200        distance1_input[0][0]            \n",
      "__________________________________________________________________________________________________\n",
      "embedding_2 (Embedding)         (None, 97, 50)       3200        distance2_input[0][0]            \n",
      "__________________________________________________________________________________________________\n",
      "concatenate (Concatenate)       (None, 97, 400)      0           embedding[0][0]                  \n",
      "                                                                 embedding_1[0][0]                \n",
      "                                                                 embedding_2[0][0]                \n",
      "__________________________________________________________________________________________________\n",
      "conv1d (Conv1D)                 (None, 97, 100)      120100      concatenate[0][0]                \n",
      "__________________________________________________________________________________________________\n",
      "global_max_pooling1d (GlobalMax (None, 100)          0           conv1d[0][0]                     \n",
      "__________________________________________________________________________________________________\n",
      "dropout (Dropout)               (None, 100)          0           global_max_pooling1d[0][0]       \n",
      "__________________________________________________________________________________________________\n",
      "dense (Dense)                   (None, 3)            303         dropout[0][0]                    \n",
      "==================================================================================================\n",
      "Total params: 6,499,703\n",
      "Trainable params: 126,803\n",
      "Non-trainable params: 6,372,900\n",
      "__________________________________________________________________________________________________\n",
      "Start training\n"
     ]
    }
   ],
   "source": [
    "words_input = Input(shape=(max_sentence_len,), dtype='int32', name='words_input')\n",
    "words = Embedding(embeddings.shape[0], embeddings.shape[1], weights=[embeddings], trainable=False)(words_input)\n",
    "\n",
    "distance1_input = Input(shape=(max_sentence_len,), dtype='int32', name='distance1_input')\n",
    "distance1 = Embedding(max_position, position_dims)(distance1_input)\n",
    "\n",
    "distance2_input = Input(shape=(max_sentence_len,), dtype='int32', name='distance2_input')\n",
    "distance2 = Embedding(max_position, position_dims)(distance2_input)\n",
    "\n",
    "output = concatenate([words, distance1, distance2])\n",
    "\n",
    "output = Convolution1D(filters=nb_filter,\n",
    "                        kernel_size=filter_length,\n",
    "                        padding='same',\n",
    "                        activation='tanh',\n",
    "                        strides=1)(output)\n",
    "\n",
    "# standard max over time pooling\n",
    "output = GlobalMaxPooling1D()(output)\n",
    "\n",
    "output = Dropout(0.25)(output)\n",
    "output = Dense(n_out, activation='softmax')(output)\n",
    "#model = Model(inputs=[words_input, distance1_input, distance2_input], outputs=[output])\n",
    "inputs=[words_input, distance1_input, distance2_input]\n",
    "outputs=[output]\n",
    "model=tf.keras.Model(inputs, outputs)\n",
    "model = Model(inputs=[words_input, distance1_input, distance2_input], outputs=[output])\n",
    "model.compile(loss='sparse_categorical_crossentropy',optimizer='Adam', metrics=['accuracy'],run_eagerly=True)\n",
    "model.summary()\n",
    "\n",
    "print(\"Start training\")"
   ]
  },
  {
   "cell_type": "code",
   "execution_count": 28,
   "id": "b1512282",
   "metadata": {},
   "outputs": [],
   "source": [
    "import numpy as np\n",
    "from sklearn.metrics import confusion_matrix, f1_score, precision_score, recall_score\n",
    "class Metrics(tf.keras.callbacks.Callback):\n",
    "    \n",
    "    def __init__(self,sentenceVal0,positionVal01,positionVal02,yVal0,patience):\n",
    "\n",
    "        self.patience=patience\n",
    "        self.sentenceVal0 =sentenceVal0\n",
    "        self.positionVal01 = positionVal01\n",
    "        self.positionVal02 = positionVal02\n",
    "        self.yVal0 = yVal0 \n",
    "        self.max_f1=0\n",
    "        self.wait=None \n",
    "\n",
    "        \n",
    "    def on_train_begin(self, logs={}):\n",
    "        self._data = []\n",
    "        self.best=-1\n",
    "        self.ema=-1\n",
    "        self.best_diff=-1\n",
    "        self.mean=[]\n",
    "        self.std=[]\n",
    "        self.wait=0\n",
    "        self.val_f1s = []\n",
    "        self.val_recalls = []\n",
    "        self.val_precisions = []\n",
    "    def set_model(self, model):\n",
    "        self.model = model\n",
    "    def on_epoch_end(self, batch, logs={}):\n",
    "        from tensorflow.python.keras import backend as K\n",
    "        from tensorflow.keras.layers import Lambda\n",
    "        f = tf.keras.backend.function([self.model.inputs],[self.model.outputs])\n",
    "        \n",
    "\n",
    "    #####################################Prediction##############################\n",
    "     \n",
    "        pred=np.array(f([[self.sentenceVal0,self.positionVal01,self.positionVal02], True])).reshape(-1,1)\n",
    "        \n",
    "        Y_pred=pred \n",
    "        \n",
    "        Y_pred=np.asarray(Y_pred)\n",
    "\n",
    "        # Calculate mean and standard deviation.\n",
    "        Y_pred_m = np.mean(Y_pred, axis=0)\n",
    "        val_predict = (np.asarray(self.model.predict([sentenceVal0,positionVal01,positionVal02], verbose=False).argmax(axis=-1))).round()\n",
    "        val_targ = np.asarray(yVal0)\n",
    "        _val_f1 = f1_score(val_targ, val_predict,average='macro')\n",
    "        _val_recall = recall_score(val_targ, val_predict,average='macro')\n",
    "        _val_precision = precision_score(val_targ, val_predict,average='macro')\n",
    "        self.val_f1s.append(_val_f1)\n",
    "        self.val_recalls.append(_val_recall)\n",
    "        self.val_precisions.append(_val_precision)\n",
    "        print (\"— val_f1: %f — val_precision: %f — val_recall %f\" %(_val_f1, _val_precision, _val_recall))\n",
    "        if(self.val_f1s[-1] >self.max_f1):\n",
    "            self.wait=0\n",
    "            self.max_f1=self.val_f1s[-1]\n",
    "        else :\n",
    "            self.wait+=1\n",
    "            if self.wait >= self.patience:\n",
    "                self.model.stop_training = True        \n"
   ]
  },
  {
   "cell_type": "code",
   "execution_count": 29,
   "id": "70b26716",
   "metadata": {},
   "outputs": [],
   "source": [
    "metrics = Metrics(words_input,distance1_input,distance2_input,output,patience=2) "
   ]
  },
  {
   "cell_type": "code",
   "execution_count": 96,
   "id": "69d4f823",
   "metadata": {},
   "outputs": [],
   "source": [
    "tf.compat.v1.enable_eager_execution()"
   ]
  },
  {
   "cell_type": "code",
   "execution_count": 97,
   "id": "44b3be58",
   "metadata": {},
   "outputs": [
    {
     "name": "stdout",
     "output_type": "stream",
     "text": [
      "Epoch 1/20\n",
      "100/100 [==============================] - 6s 59ms/step - loss: 0.3562 - accuracy: 0.8897 - val_loss: 0.2411 - val_accuracy: 0.9219\n",
      "— val_f1: 0.825806 — val_precision: 0.942150 — val_recall 0.751732\n",
      "Epoch 2/20\n",
      "100/100 [==============================] - 6s 65ms/step - loss: 0.1403 - accuracy: 0.9556 - val_loss: 0.1915 - val_accuracy: 0.9219\n",
      "— val_f1: 0.861526 — val_precision: 0.936235 — val_recall 0.806810\n",
      "Epoch 3/20\n",
      "100/100 [==============================] - 7s 66ms/step - loss: 0.0881 - accuracy: 0.9723 - val_loss: 0.1789 - val_accuracy: 0.9531\n",
      "— val_f1: 0.879963 — val_precision: 0.895751 — val_recall 0.867407\n",
      "Epoch 4/20\n",
      "100/100 [==============================] - 7s 66ms/step - loss: 0.0621 - accuracy: 0.9809 - val_loss: 0.1853 - val_accuracy: 0.9219\n",
      "— val_f1: 0.875011 — val_precision: 0.935577 — val_recall 0.827486\n",
      "Epoch 5/20\n",
      "100/100 [==============================] - 7s 66ms/step - loss: 0.0398 - accuracy: 0.9892 - val_loss: 0.1920 - val_accuracy: 0.9219\n",
      "— val_f1: 0.875867 — val_precision: 0.948450 — val_recall 0.822594\n"
     ]
    }
   ],
   "source": [
    "from keras.callbacks import ModelCheckpoint, EarlyStopping\n",
    "history=model.fit([sentenceTrain0, positionTrain01, positionTrain02], yTrain0, batch_size=batch_size, verbose=True,epochs=20,validation_steps=1,validation_data=([sentenceVal0,positionVal01,positionVal02], yVal0), callbacks=[metrics\n",
    "        ,ModelCheckpoint('models/cnn_model_val_f1.h5')])"
   ]
  },
  {
   "cell_type": "code",
   "execution_count": null,
   "id": "face8bd9",
   "metadata": {},
   "outputs": [],
   "source": [
    "loss: 0.0871 - accuracy: 0.9881 - val_loss: 0.1239 - val_accuracy: 0.9219\n",
    "— val_f1: 0.887510 — val_precision: 0.884502 — val_recall 0.891561\n"
   ]
  },
  {
   "cell_type": "code",
   "execution_count": 98,
   "id": "48f87fd1",
   "metadata": {},
   "outputs": [
    {
     "name": "stdout",
     "output_type": "stream",
     "text": [
      "85/85 [==============================] - 1s 13ms/step - loss: 0.0792 - accuracy: 0.9753\n"
     ]
    },
    {
     "data": {
      "text/plain": [
       "[0.07920163869857788, 0.9753404259681702]"
      ]
     },
     "execution_count": 98,
     "metadata": {},
     "output_type": "execute_result"
    }
   ],
   "source": [
    "model.evaluate([sentenceTest, positionTest1, positionTest2], yTest)"
   ]
  },
  {
   "cell_type": "markdown",
   "id": "679ed307",
   "metadata": {},
   "source": [
    "# Set class weights for imbalenced classes:"
   ]
  },
  {
   "cell_type": "markdown",
   "id": "de7b8d6f",
   "metadata": {},
   "source": [
    "In SemEval2010_task8 dataset there are:\n",
    "\n",
    "6996 'Other' relation \n",
    "\n",
    "659  'Cause-Effect(e2,e1)' effect relation\n",
    "\n",
    "344 'Cause-Effect(e1,e2)' causality relation.\n",
    "\n",
    "=> The classes are imbalenced"
   ]
  },
  {
   "cell_type": "markdown",
   "id": "6c41e144",
   "metadata": {},
   "source": [
    "In order to force the algorithm to treat every instance of class 1 as 20 instances of class 0 and  every instance of class 2 as 10 instances of class 0:\n",
    "    class_weight = {0: 1.,\n",
    "                1: 20.,\n",
    "                2: 10.}"
   ]
  },
  {
   "cell_type": "code",
   "execution_count": 21,
   "id": "beee115f",
   "metadata": {},
   "outputs": [
    {
     "name": "stdout",
     "output_type": "stream",
     "text": [
      "Model: \"model\"\n",
      "__________________________________________________________________________________________________\n",
      "Layer (type)                    Output Shape         Param #     Connected to                     \n",
      "==================================================================================================\n",
      "words_input (InputLayer)        [(None, 97)]         0                                            \n",
      "__________________________________________________________________________________________________\n",
      "distance1_input (InputLayer)    [(None, 97)]         0                                            \n",
      "__________________________________________________________________________________________________\n",
      "distance2_input (InputLayer)    [(None, 97)]         0                                            \n",
      "__________________________________________________________________________________________________\n",
      "embedding (Embedding)           (None, 97, 300)      6372900     words_input[0][0]                \n",
      "__________________________________________________________________________________________________\n",
      "embedding_1 (Embedding)         (None, 97, 50)       3200        distance1_input[0][0]            \n",
      "__________________________________________________________________________________________________\n",
      "embedding_2 (Embedding)         (None, 97, 50)       3200        distance2_input[0][0]            \n",
      "__________________________________________________________________________________________________\n",
      "concatenate (Concatenate)       (None, 97, 400)      0           embedding[0][0]                  \n",
      "                                                                 embedding_1[0][0]                \n",
      "                                                                 embedding_2[0][0]                \n",
      "__________________________________________________________________________________________________\n",
      "conv1d (Conv1D)                 (None, 97, 100)      120100      concatenate[0][0]                \n",
      "__________________________________________________________________________________________________\n",
      "global_max_pooling1d (GlobalMax (None, 100)          0           conv1d[0][0]                     \n",
      "__________________________________________________________________________________________________\n",
      "dropout (Dropout)               (None, 100)          0           global_max_pooling1d[0][0]       \n",
      "__________________________________________________________________________________________________\n",
      "dense (Dense)                   (None, 3)            303         dropout[0][0]                    \n",
      "==================================================================================================\n",
      "Total params: 6,499,703\n",
      "Trainable params: 126,803\n",
      "Non-trainable params: 6,372,900\n",
      "__________________________________________________________________________________________________\n",
      "Start training\n"
     ]
    }
   ],
   "source": [
    "words_input = Input(shape=(max_sentence_len,), dtype='int32', name='words_input')\n",
    "words = Embedding(embeddings.shape[0], embeddings.shape[1], weights=[embeddings], trainable=False)(words_input)\n",
    "\n",
    "distance1_input = Input(shape=(max_sentence_len,), dtype='int32', name='distance1_input')\n",
    "distance1 = Embedding(max_position, position_dims)(distance1_input)\n",
    "\n",
    "distance2_input = Input(shape=(max_sentence_len,), dtype='int32', name='distance2_input')\n",
    "distance2 = Embedding(max_position, position_dims)(distance2_input)\n",
    "\n",
    "output = concatenate([words, distance1, distance2])\n",
    "\n",
    "output = Convolution1D(filters=nb_filter,\n",
    "                        kernel_size=filter_length,\n",
    "                        padding='same',\n",
    "                        activation='tanh',\n",
    "                        strides=1)(output)\n",
    "\n",
    "# standard max over time pooling\n",
    "output = GlobalMaxPooling1D()(output)\n",
    "\n",
    "output = Dropout(0.25)(output)\n",
    "output = Dense(n_out, activation='softmax')(output)\n",
    "#model = Model(inputs=[words_input, distance1_input, distance2_input], outputs=[output])\n",
    "inputs=[words_input, distance1_input, distance2_input]\n",
    "outputs=[output]\n",
    "model=tf.keras.Model(inputs, outputs)\n",
    "model = Model(inputs=[words_input, distance1_input, distance2_input], outputs=[output])\n",
    "model.compile(loss='sparse_categorical_crossentropy',optimizer='Adam', metrics=['accuracy'],run_eagerly=True)\n",
    "model.summary()\n",
    "\n",
    "print(\"Start training\")"
   ]
  },
  {
   "cell_type": "code",
   "execution_count": 30,
   "id": "60ddc5a4",
   "metadata": {},
   "outputs": [],
   "source": [
    "#saving weights\n",
    "model.save_weights('models/model_weights', save_format='tf')"
   ]
  },
  {
   "cell_type": "code",
   "execution_count": 31,
   "id": "d0c845b1",
   "metadata": {},
   "outputs": [
    {
     "name": "stdout",
     "output_type": "stream",
     "text": [
      "{'words_input': <tensorflow.python.keras.engine.input_layer.InputLayer object at 0x7fa8c76b1af0>, 'distance1_input': <tensorflow.python.keras.engine.input_layer.InputLayer object at 0x7fa8c76b1c70>, 'distance2_input': <tensorflow.python.keras.engine.input_layer.InputLayer object at 0x7fa8c76a3580>, 'embedding_3': <tensorflow.python.keras.layers.embeddings.Embedding object at 0x7fa8c76b1ac0>, 'embedding_4': <tensorflow.python.keras.layers.embeddings.Embedding object at 0x7fa8c76b1a90>, 'embedding_5': <tensorflow.python.keras.layers.embeddings.Embedding object at 0x7fa8c76a3d90>, 'concatenate_1': <tensorflow.python.keras.layers.merge.Concatenate object at 0x7fa8c76b5640>, 'conv1d_1': <tensorflow.python.keras.layers.convolutional.Conv1D object at 0x7fa8c76b5f10>, 'global_max_pooling1d_1': <tensorflow.python.keras.layers.pooling.GlobalMaxPooling1D object at 0x7fa8c763fc40>, 'dropout_1': <tensorflow.python.keras.layers.core.Dropout object at 0x7fa8c763fc70>, 'dense_1': <tensorflow.python.keras.layers.core.Dense object at 0x7fa8c7639760>}\n"
     ]
    }
   ],
   "source": [
    "#layer weights from the model \n",
    "layer_dict = dict([(layer.name, layer) for layer in model.layers])\n",
    "print(layer_dict)"
   ]
  },
  {
   "cell_type": "code",
   "execution_count": 44,
   "id": "c1669acd",
   "metadata": {},
   "outputs": [],
   "source": [
    "# creating the same model architecture and compile\n",
    "loaded_model = model"
   ]
  },
  {
   "cell_type": "code",
   "execution_count": 33,
   "id": "c99253cd",
   "metadata": {},
   "outputs": [
    {
     "data": {
      "text/plain": [
       "[1.0909836292266846, 0.3881250023841858]"
      ]
     },
     "execution_count": 33,
     "metadata": {},
     "output_type": "execute_result"
    }
   ],
   "source": [
    "# This initializes the variables used by the optimizers,\n",
    "# as well as any stateful metric variables\n",
    "loaded_model.train_on_batch([sentenceTrain0, positionTrain01, positionTrain02], yTrain0)"
   ]
  },
  {
   "cell_type": "code",
   "execution_count": 34,
   "id": "5aac4209",
   "metadata": {},
   "outputs": [
    {
     "name": "stdout",
     "output_type": "stream",
     "text": [
      "words_input\n",
      "distance1_input\n",
      "distance2_input\n",
      "embedding_3\n",
      "embedding_4\n",
      "embedding_5\n",
      "concatenate_1\n",
      "conv1d_1\n",
      "global_max_pooling1d_1\n",
      "dropout_1\n",
      "dense_1\n"
     ]
    }
   ],
   "source": [
    "# loading the weights from base_model\n",
    "for layer in loaded_model.layers:    \n",
    "    layer_name = layer.name\n",
    "    print(layer.name)\n",
    "    layer.set_weights(layer_dict[layer_name].get_weights())"
   ]
  },
  {
   "cell_type": "code",
   "execution_count": 35,
   "id": "6f1a299d",
   "metadata": {},
   "outputs": [
    {
     "data": {
      "text/plain": [
       "[array([[ 0.06584784,  0.04598597, -0.2018772 ],\n",
       "        [-0.11449538,  0.01961733, -0.1315861 ],\n",
       "        [-0.13925493, -0.01714204,  0.1198431 ],\n",
       "        [-0.14184678, -0.14569642, -0.10084689],\n",
       "        [ 0.16244678, -0.17144649,  0.23330697],\n",
       "        [ 0.11243066, -0.07467834, -0.21872064],\n",
       "        [ 0.2350895 , -0.17133927, -0.23790878],\n",
       "        [ 0.12229478, -0.0974419 ,  0.16282296],\n",
       "        [ 0.2002332 , -0.10006623, -0.09923714],\n",
       "        [-0.01594942, -0.01384284,  0.17669639],\n",
       "        [-0.1299595 , -0.14023335,  0.06011204],\n",
       "        [-0.17800587,  0.06013442, -0.14965059],\n",
       "        [-0.20020044, -0.05795054, -0.17513332],\n",
       "        [-0.1377841 ,  0.07657465, -0.04860032],\n",
       "        [ 0.01313025,  0.14049108, -0.14801727],\n",
       "        [-0.09398449, -0.12705463, -0.12970206],\n",
       "        [-0.06437083, -0.06048926,  0.22343053],\n",
       "        [ 0.19503227,  0.12673543,  0.12105651],\n",
       "        [-0.06646761,  0.11810388,  0.1433471 ],\n",
       "        [-0.0564209 , -0.17521441,  0.06036901],\n",
       "        [ 0.10247612, -0.02816309,  0.12775461],\n",
       "        [-0.02883373, -0.05101395, -0.20941314],\n",
       "        [ 0.17261721, -0.14906812, -0.0328977 ],\n",
       "        [ 0.12708464,  0.09986217, -0.02335861],\n",
       "        [-0.17327699, -0.2213817 , -0.04879311],\n",
       "        [ 0.18249924,  0.02077778, -0.02686734],\n",
       "        [ 0.09306592,  0.05643316, -0.03605513],\n",
       "        [ 0.14718705, -0.02949912, -0.05132288],\n",
       "        [-0.14192487, -0.10495324, -0.01787359],\n",
       "        [-0.04803689, -0.08162817,  0.04509626],\n",
       "        [ 0.01512255,  0.0373604 ,  0.23618409],\n",
       "        [ 0.24061844, -0.02289122,  0.10029323],\n",
       "        [ 0.05591881,  0.22392626,  0.15262558],\n",
       "        [ 0.03369781,  0.09353991,  0.04400481],\n",
       "        [-0.16626203, -0.09186938, -0.11651675],\n",
       "        [-0.04005558, -0.04540943,  0.08045933],\n",
       "        [-0.15118463,  0.03814984, -0.04111924],\n",
       "        [-0.05859967,  0.17138736, -0.00844446],\n",
       "        [-0.16666915,  0.01719867,  0.19153042],\n",
       "        [-0.14171454, -0.02188722,  0.0301478 ],\n",
       "        [ 0.10844501,  0.23395279,  0.0432035 ],\n",
       "        [ 0.15811785, -0.18307666,  0.01978744],\n",
       "        [ 0.08028162, -0.11456119,  0.15387864],\n",
       "        [-0.20595056, -0.02091769, -0.00583115],\n",
       "        [-0.22739682, -0.12840047,  0.07514583],\n",
       "        [-0.11472574, -0.19829221, -0.22782065],\n",
       "        [ 0.14160363,  0.10608926, -0.23916271],\n",
       "        [ 0.14619073, -0.00245092, -0.03883823],\n",
       "        [ 0.16883639, -0.1794339 , -0.16361539],\n",
       "        [ 0.07277941,  0.03783726,  0.19451226],\n",
       "        [ 0.10906296,  0.19580317,  0.01934883],\n",
       "        [-0.07742125,  0.1843187 , -0.24205251],\n",
       "        [-0.1085114 ,  0.09325267,  0.11222708],\n",
       "        [ 0.21723667,  0.22479607,  0.14163436],\n",
       "        [ 0.12578371,  0.00349539,  0.02828017],\n",
       "        [-0.230776  ,  0.12736504, -0.1187533 ],\n",
       "        [ 0.07611948,  0.1831901 , -0.04418275],\n",
       "        [-0.03690289,  0.09591694, -0.12893046],\n",
       "        [-0.17006025,  0.05556781, -0.13324007],\n",
       "        [-0.03072385, -0.0132521 , -0.23172925],\n",
       "        [-0.05119352, -0.20568274,  0.10328812],\n",
       "        [ 0.16914026,  0.01778969,  0.12923583],\n",
       "        [ 0.23656932,  0.05175941, -0.03724842],\n",
       "        [-0.16083215,  0.0927029 ,  0.19748423],\n",
       "        [-0.15156958, -0.14887305,  0.23676084],\n",
       "        [-0.21076447,  0.19090395,  0.21625972],\n",
       "        [-0.2377477 , -0.19098526, -0.05860579],\n",
       "        [ 0.16982448, -0.16808231, -0.20784046],\n",
       "        [-0.04656752, -0.13337955, -0.21377154],\n",
       "        [ 0.09527996,  0.08158524,  0.03949994],\n",
       "        [-0.13975081, -0.12405714, -0.22711678],\n",
       "        [-0.11533944,  0.20703243, -0.02688925],\n",
       "        [ 0.1380329 , -0.11583893, -0.12626532],\n",
       "        [ 0.08787563,  0.1529304 ,  0.14349233],\n",
       "        [-0.04415287,  0.23473181, -0.04773303],\n",
       "        [-0.1274237 , -0.18320404, -0.03122078],\n",
       "        [ 0.08768749,  0.20726617,  0.05604715],\n",
       "        [ 0.22462912,  0.03860316,  0.06227821],\n",
       "        [-0.21843635,  0.11888408,  0.20445241],\n",
       "        [ 0.09015805,  0.03034364,  0.1036997 ],\n",
       "        [-0.09773973,  0.05349125, -0.02686186],\n",
       "        [ 0.11679056,  0.08421429, -0.01050248],\n",
       "        [ 0.14045002, -0.14510396,  0.03285649],\n",
       "        [-0.11883056, -0.09114272, -0.14762586],\n",
       "        [-0.01331357, -0.16044946,  0.15653549],\n",
       "        [ 0.20036569,  0.08777394,  0.18486996],\n",
       "        [ 0.17505842,  0.10840591, -0.04810735],\n",
       "        [ 0.04084116, -0.18074964,  0.07447935],\n",
       "        [ 0.18960088,  0.13408463,  0.05810423],\n",
       "        [ 0.10781461,  0.01110594, -0.13590907],\n",
       "        [ 0.21486875, -0.00709608,  0.03992148],\n",
       "        [-0.05793429, -0.19818793,  0.03528278],\n",
       "        [-0.21195269, -0.20646097,  0.2163805 ],\n",
       "        [-0.01244767, -0.07275812,  0.10654657],\n",
       "        [-0.00099339,  0.03619881,  0.20223083],\n",
       "        [-0.16724454,  0.15107822,  0.00186885],\n",
       "        [ 0.03867705,  0.0336722 ,  0.11198606],\n",
       "        [-0.0296669 , -0.10968108, -0.10333522],\n",
       "        [ 0.07345496,  0.06731979, -0.13857238],\n",
       "        [ 0.01444897, -0.21744795, -0.22654474]], dtype=float32),\n",
       " array([ 0.00099999, -0.00099999, -0.00099999], dtype=float32)]"
      ]
     },
     "execution_count": 35,
     "metadata": {},
     "output_type": "execute_result"
    }
   ],
   "source": [
    "# accessing weights of a layer by its name\n",
    "layer_dict[layer_name].get_weights()"
   ]
  },
  {
   "cell_type": "code",
   "execution_count": 36,
   "id": "decae856",
   "metadata": {},
   "outputs": [
    {
     "name": "stdout",
     "output_type": "stream",
     "text": [
      "85/85 [==============================] - 2s 18ms/step - loss: 0.6317 - accuracy: 0.8793\n"
     ]
    },
    {
     "data": {
      "text/plain": [
       "[0.6316894292831421, 0.8792786002159119]"
      ]
     },
     "execution_count": 36,
     "metadata": {},
     "output_type": "execute_result"
    }
   ],
   "source": [
    "# check the evaluation before and after are same\n",
    "loaded_model.evaluate([sentenceTest, positionTest1, positionTest2], yTest)"
   ]
  },
  {
   "cell_type": "code",
   "execution_count": 37,
   "id": "d8bab40a",
   "metadata": {},
   "outputs": [
    {
     "name": "stdout",
     "output_type": "stream",
     "text": [
      "[<tf.Variable 'embedding_3/embeddings:0' shape=(21243, 300) dtype=float32, numpy=\n",
      "array([[ 0.        ,  0.        ,  0.        , ...,  0.        ,\n",
      "         0.        ,  0.        ],\n",
      "       [ 0.06115359, -0.12306087, -0.19337489, ...,  0.11880438,\n",
      "        -0.17970166, -0.21234585],\n",
      "       [ 0.152895  , -0.037006  ,  0.12676   , ...,  0.09854   ,\n",
      "         0.530776  , -0.232594  ],\n",
      "       ...,\n",
      "       [ 0.008987  ,  0.003346  ,  0.048075  , ...,  0.601451  ,\n",
      "         0.218893  ,  0.045559  ],\n",
      "       [ 0.1964    , -0.546759  , -0.395152  , ..., -0.148597  ,\n",
      "         0.909782  , -0.701796  ],\n",
      "       [ 0.537103  ,  0.356573  ,  0.528078  , ..., -0.283193  ,\n",
      "         0.23536   , -0.152445  ]], dtype=float32)>, <tf.Variable 'embedding_4/embeddings:0' shape=(64, 50) dtype=float32, numpy=\n",
      "array([[-0.01413449, -0.03184837, -0.02254126, ..., -0.01360248,\n",
      "        -0.00582602, -0.02421376],\n",
      "       [ 0.04195855,  0.03802381,  0.04594328, ..., -0.03400361,\n",
      "        -0.01472078, -0.04502352],\n",
      "       [ 0.03862108, -0.04309344, -0.0013459 , ..., -0.03683268,\n",
      "         0.01788851, -0.04476555],\n",
      "       ...,\n",
      "       [ 0.02104896, -0.04193529,  0.0196903 , ..., -0.01022489,\n",
      "        -0.0343793 , -0.01397334],\n",
      "       [-0.04536662, -0.00713145,  0.02795844, ..., -0.03839145,\n",
      "         0.01692633, -0.0052613 ],\n",
      "       [-0.04001999, -0.00552784, -0.00143527, ...,  0.04536265,\n",
      "        -0.02041405,  0.01038393]], dtype=float32)>, <tf.Variable 'embedding_5/embeddings:0' shape=(64, 50) dtype=float32, numpy=\n",
      "array([[ 0.04830157, -0.00542817,  0.02135384, ..., -0.02913629,\n",
      "        -0.0113735 ,  0.04297219],\n",
      "       [ 0.02644404,  0.0132111 , -0.03854311, ...,  0.01355821,\n",
      "        -0.04178439,  0.03411862],\n",
      "       [ 0.01468915, -0.01733764, -0.03648489, ..., -0.00472093,\n",
      "        -0.04572917, -0.01845752],\n",
      "       ...,\n",
      "       [ 0.03906697,  0.04536386, -0.01126048, ...,  0.03327112,\n",
      "        -0.02483572,  0.02158574],\n",
      "       [ 0.01088905,  0.02679954,  0.04983665, ..., -0.03663471,\n",
      "        -0.0311223 , -0.0489359 ],\n",
      "       [ 0.01005935, -0.02578791,  0.0447904 , ..., -0.02129357,\n",
      "         0.00851243, -0.04377376]], dtype=float32)>, <tf.Variable 'conv1d_1/kernel:0' shape=(3, 400, 100) dtype=float32, numpy=\n",
      "array([[[-0.00507071, -0.00039673, -0.02465847, ..., -0.05647158,\n",
      "          0.05614496, -0.01297942],\n",
      "        [-0.00821557,  0.02737056,  0.00999852, ..., -0.03227293,\n",
      "          0.00431783, -0.04628729],\n",
      "        [-0.02534308, -0.05058526, -0.03825686, ..., -0.02265584,\n",
      "         -0.0582969 ,  0.03394016],\n",
      "        ...,\n",
      "        [-0.03733208,  0.0498448 ,  0.01555366, ...,  0.04274078,\n",
      "         -0.01406952, -0.01219147],\n",
      "        [ 0.00861675,  0.03687861,  0.0258475 , ..., -0.05990437,\n",
      "          0.05678   , -0.0294391 ],\n",
      "        [ 0.00068859, -0.0429515 , -0.03754487, ..., -0.02466287,\n",
      "         -0.06047805,  0.02280748]],\n",
      "\n",
      "       [[ 0.02049248,  0.02061673,  0.03644485, ...,  0.00278512,\n",
      "          0.06180113, -0.03802937],\n",
      "        [-0.00207164,  0.03695224,  0.02582275, ...,  0.03734899,\n",
      "         -0.0228738 , -0.03673885],\n",
      "        [ 0.03886787,  0.00790009,  0.0578972 , ..., -0.05420984,\n",
      "         -0.01316977, -0.04726592],\n",
      "        ...,\n",
      "        [-0.01914638,  0.00516843,  0.04424009, ...,  0.0242757 ,\n",
      "          0.01220725, -0.05304152],\n",
      "        [-0.01286087,  0.03574341,  0.01263171, ...,  0.04581955,\n",
      "          0.01740211, -0.00252135],\n",
      "        [ 0.01442958, -0.034379  ,  0.01045687, ...,  0.06105699,\n",
      "         -0.04622761, -0.05875753]],\n",
      "\n",
      "       [[ 0.01140019,  0.03480808,  0.05622923, ..., -0.05599968,\n",
      "         -0.00916862, -0.03721914],\n",
      "        [ 0.00604031,  0.0234495 ,  0.0181011 , ..., -0.0565897 ,\n",
      "          0.06079746,  0.05042293],\n",
      "        [-0.04293856,  0.04928457,  0.01792777, ..., -0.00879599,\n",
      "         -0.05770829, -0.04637952],\n",
      "        ...,\n",
      "        [ 0.05397952,  0.01983694,  0.02070646, ..., -0.03518964,\n",
      "          0.00239822, -0.06141581],\n",
      "        [-0.01660559, -0.03268738,  0.01107715, ..., -0.00372803,\n",
      "          0.03093102, -0.04956659],\n",
      "        [-0.05656432, -0.04530869,  0.00957078, ..., -0.05588912,\n",
      "         -0.05672286,  0.04834973]]], dtype=float32)>, <tf.Variable 'conv1d_1/bias:0' shape=(100,) dtype=float32, numpy=\n",
      "array([ 0.00099996, -0.00099987, -0.00099997, -0.00099964,  0.00099994,\n",
      "        0.00099997,  0.00099998,  0.00099992,  0.00099998, -0.0009999 ,\n",
      "       -0.00099992, -0.00099994, -0.00099991, -0.00099996,  0.00099961,\n",
      "        0.00099979, -0.00099995,  0.0009999 , -0.00099997, -0.00099914,\n",
      "        0.00099984,  0.00099993,  0.00099997,  0.0009999 , -0.00099984,\n",
      "        0.00099997,  0.00099991,  0.00099996, -0.00099992, -0.00099976,\n",
      "       -0.00099995,  0.00099996, -0.00099994, -0.00099979, -0.00099989,\n",
      "       -0.00099986, -0.00099996, -0.00099996, -0.00099997, -0.00099994,\n",
      "       -0.00099978,  0.00099997,  0.00099983, -0.00099997, -0.00099997,\n",
      "        0.00099991,  0.00099997,  0.00099996,  0.00099998, -0.00099986,\n",
      "        0.00099705, -0.00099985, -0.00099997,  0.00099975,  0.0009999 ,\n",
      "       -0.00099997,  0.00099919, -0.00099963, -0.00099994,  0.00099989,\n",
      "       -0.00099931,  0.00099993,  0.00099997, -0.00099998, -0.00099997,\n",
      "       -0.00099998, -0.00099994,  0.00099998,  0.00099995,  0.00099968,\n",
      "        0.0009998 , -0.00099996,  0.00099997, -0.00099988, -0.00099995,\n",
      "       -0.00099971, -0.00099981,  0.00099996, -0.00099998,  0.00099964,\n",
      "       -0.00099993,  0.00099991,  0.00099997, -0.00098534, -0.00099966,\n",
      "        0.00099988,  0.00099995,  0.00099991,  0.00099992,  0.00099995,\n",
      "        0.00099996,  0.00099949, -0.00099997, -0.00099981, -0.00099994,\n",
      "       -0.00099997, -0.00099983,  0.00099991,  0.00099994,  0.00099997],\n",
      "      dtype=float32)>, <tf.Variable 'dense_1/kernel:0' shape=(100, 3) dtype=float32, numpy=\n",
      "array([[ 0.06584784,  0.04598597, -0.2018772 ],\n",
      "       [-0.11449538,  0.01961733, -0.1315861 ],\n",
      "       [-0.13925493, -0.01714204,  0.1198431 ],\n",
      "       [-0.14184678, -0.14569642, -0.10084689],\n",
      "       [ 0.16244678, -0.17144649,  0.23330697],\n",
      "       [ 0.11243066, -0.07467834, -0.21872064],\n",
      "       [ 0.2350895 , -0.17133927, -0.23790878],\n",
      "       [ 0.12229478, -0.0974419 ,  0.16282296],\n",
      "       [ 0.2002332 , -0.10006623, -0.09923714],\n",
      "       [-0.01594942, -0.01384284,  0.17669639],\n",
      "       [-0.1299595 , -0.14023335,  0.06011204],\n",
      "       [-0.17800587,  0.06013442, -0.14965059],\n",
      "       [-0.20020044, -0.05795054, -0.17513332],\n",
      "       [-0.1377841 ,  0.07657465, -0.04860032],\n",
      "       [ 0.01313025,  0.14049108, -0.14801727],\n",
      "       [-0.09398449, -0.12705463, -0.12970206],\n",
      "       [-0.06437083, -0.06048926,  0.22343053],\n",
      "       [ 0.19503227,  0.12673543,  0.12105651],\n",
      "       [-0.06646761,  0.11810388,  0.1433471 ],\n",
      "       [-0.0564209 , -0.17521441,  0.06036901],\n",
      "       [ 0.10247612, -0.02816309,  0.12775461],\n",
      "       [-0.02883373, -0.05101395, -0.20941314],\n",
      "       [ 0.17261721, -0.14906812, -0.0328977 ],\n",
      "       [ 0.12708464,  0.09986217, -0.02335861],\n",
      "       [-0.17327699, -0.2213817 , -0.04879311],\n",
      "       [ 0.18249924,  0.02077778, -0.02686734],\n",
      "       [ 0.09306592,  0.05643316, -0.03605513],\n",
      "       [ 0.14718705, -0.02949912, -0.05132288],\n",
      "       [-0.14192487, -0.10495324, -0.01787359],\n",
      "       [-0.04803689, -0.08162817,  0.04509626],\n",
      "       [ 0.01512255,  0.0373604 ,  0.23618409],\n",
      "       [ 0.24061844, -0.02289122,  0.10029323],\n",
      "       [ 0.05591881,  0.22392626,  0.15262558],\n",
      "       [ 0.03369781,  0.09353991,  0.04400481],\n",
      "       [-0.16626203, -0.09186938, -0.11651675],\n",
      "       [-0.04005558, -0.04540943,  0.08045933],\n",
      "       [-0.15118463,  0.03814984, -0.04111924],\n",
      "       [-0.05859967,  0.17138736, -0.00844446],\n",
      "       [-0.16666915,  0.01719867,  0.19153042],\n",
      "       [-0.14171454, -0.02188722,  0.0301478 ],\n",
      "       [ 0.10844501,  0.23395279,  0.0432035 ],\n",
      "       [ 0.15811785, -0.18307666,  0.01978744],\n",
      "       [ 0.08028162, -0.11456119,  0.15387864],\n",
      "       [-0.20595056, -0.02091769, -0.00583115],\n",
      "       [-0.22739682, -0.12840047,  0.07514583],\n",
      "       [-0.11472574, -0.19829221, -0.22782065],\n",
      "       [ 0.14160363,  0.10608926, -0.23916271],\n",
      "       [ 0.14619073, -0.00245092, -0.03883823],\n",
      "       [ 0.16883639, -0.1794339 , -0.16361539],\n",
      "       [ 0.07277941,  0.03783726,  0.19451226],\n",
      "       [ 0.10906296,  0.19580317,  0.01934883],\n",
      "       [-0.07742125,  0.1843187 , -0.24205251],\n",
      "       [-0.1085114 ,  0.09325267,  0.11222708],\n",
      "       [ 0.21723667,  0.22479607,  0.14163436],\n",
      "       [ 0.12578371,  0.00349539,  0.02828017],\n",
      "       [-0.230776  ,  0.12736504, -0.1187533 ],\n",
      "       [ 0.07611948,  0.1831901 , -0.04418275],\n",
      "       [-0.03690289,  0.09591694, -0.12893046],\n",
      "       [-0.17006025,  0.05556781, -0.13324007],\n",
      "       [-0.03072385, -0.0132521 , -0.23172925],\n",
      "       [-0.05119352, -0.20568274,  0.10328812],\n",
      "       [ 0.16914026,  0.01778969,  0.12923583],\n",
      "       [ 0.23656932,  0.05175941, -0.03724842],\n",
      "       [-0.16083215,  0.0927029 ,  0.19748423],\n",
      "       [-0.15156958, -0.14887305,  0.23676084],\n",
      "       [-0.21076447,  0.19090395,  0.21625972],\n",
      "       [-0.2377477 , -0.19098526, -0.05860579],\n",
      "       [ 0.16982448, -0.16808231, -0.20784046],\n",
      "       [-0.04656752, -0.13337955, -0.21377154],\n",
      "       [ 0.09527996,  0.08158524,  0.03949994],\n",
      "       [-0.13975081, -0.12405714, -0.22711678],\n",
      "       [-0.11533944,  0.20703243, -0.02688925],\n",
      "       [ 0.1380329 , -0.11583893, -0.12626532],\n",
      "       [ 0.08787563,  0.1529304 ,  0.14349233],\n",
      "       [-0.04415287,  0.23473181, -0.04773303],\n",
      "       [-0.1274237 , -0.18320404, -0.03122078],\n",
      "       [ 0.08768749,  0.20726617,  0.05604715],\n",
      "       [ 0.22462912,  0.03860316,  0.06227821],\n",
      "       [-0.21843635,  0.11888408,  0.20445241],\n",
      "       [ 0.09015805,  0.03034364,  0.1036997 ],\n",
      "       [-0.09773973,  0.05349125, -0.02686186],\n",
      "       [ 0.11679056,  0.08421429, -0.01050248],\n",
      "       [ 0.14045002, -0.14510396,  0.03285649],\n",
      "       [-0.11883056, -0.09114272, -0.14762586],\n",
      "       [-0.01331357, -0.16044946,  0.15653549],\n",
      "       [ 0.20036569,  0.08777394,  0.18486996],\n",
      "       [ 0.17505842,  0.10840591, -0.04810735],\n",
      "       [ 0.04084116, -0.18074964,  0.07447935],\n",
      "       [ 0.18960088,  0.13408463,  0.05810423],\n",
      "       [ 0.10781461,  0.01110594, -0.13590907],\n",
      "       [ 0.21486875, -0.00709608,  0.03992148],\n",
      "       [-0.05793429, -0.19818793,  0.03528278],\n",
      "       [-0.21195269, -0.20646097,  0.2163805 ],\n",
      "       [-0.01244767, -0.07275812,  0.10654657],\n",
      "       [-0.00099339,  0.03619881,  0.20223083],\n",
      "       [-0.16724454,  0.15107822,  0.00186885],\n",
      "       [ 0.03867705,  0.0336722 ,  0.11198606],\n",
      "       [-0.0296669 , -0.10968108, -0.10333522],\n",
      "       [ 0.07345496,  0.06731979, -0.13857238],\n",
      "       [ 0.01444897, -0.21744795, -0.22654474]], dtype=float32)>, <tf.Variable 'dense_1/bias:0' shape=(3,) dtype=float32, numpy=array([ 0.00099999, -0.00099999, -0.00099999], dtype=float32)>]\n"
     ]
    }
   ],
   "source": [
    "print(loaded_model.weights)"
   ]
  },
  {
   "cell_type": "code",
   "execution_count": 38,
   "id": "39138c36",
   "metadata": {},
   "outputs": [
    {
     "name": "stdout",
     "output_type": "stream",
     "text": [
      "[<tf.Variable 'embedding_3/embeddings:0' shape=(21243, 300) dtype=float32, numpy=\n",
      "array([[ 0.        ,  0.        ,  0.        , ...,  0.        ,\n",
      "         0.        ,  0.        ],\n",
      "       [ 0.06115359, -0.12306087, -0.19337489, ...,  0.11880438,\n",
      "        -0.17970166, -0.21234585],\n",
      "       [ 0.152895  , -0.037006  ,  0.12676   , ...,  0.09854   ,\n",
      "         0.530776  , -0.232594  ],\n",
      "       ...,\n",
      "       [ 0.008987  ,  0.003346  ,  0.048075  , ...,  0.601451  ,\n",
      "         0.218893  ,  0.045559  ],\n",
      "       [ 0.1964    , -0.546759  , -0.395152  , ..., -0.148597  ,\n",
      "         0.909782  , -0.701796  ],\n",
      "       [ 0.537103  ,  0.356573  ,  0.528078  , ..., -0.283193  ,\n",
      "         0.23536   , -0.152445  ]], dtype=float32)>, <tf.Variable 'embedding_4/embeddings:0' shape=(64, 50) dtype=float32, numpy=\n",
      "array([[-0.01413449, -0.03184837, -0.02254126, ..., -0.01360248,\n",
      "        -0.00582602, -0.02421376],\n",
      "       [ 0.04195855,  0.03802381,  0.04594328, ..., -0.03400361,\n",
      "        -0.01472078, -0.04502352],\n",
      "       [ 0.03862108, -0.04309344, -0.0013459 , ..., -0.03683268,\n",
      "         0.01788851, -0.04476555],\n",
      "       ...,\n",
      "       [ 0.02104896, -0.04193529,  0.0196903 , ..., -0.01022489,\n",
      "        -0.0343793 , -0.01397334],\n",
      "       [-0.04536662, -0.00713145,  0.02795844, ..., -0.03839145,\n",
      "         0.01692633, -0.0052613 ],\n",
      "       [-0.04001999, -0.00552784, -0.00143527, ...,  0.04536265,\n",
      "        -0.02041405,  0.01038393]], dtype=float32)>, <tf.Variable 'embedding_5/embeddings:0' shape=(64, 50) dtype=float32, numpy=\n",
      "array([[ 0.04830157, -0.00542817,  0.02135384, ..., -0.02913629,\n",
      "        -0.0113735 ,  0.04297219],\n",
      "       [ 0.02644404,  0.0132111 , -0.03854311, ...,  0.01355821,\n",
      "        -0.04178439,  0.03411862],\n",
      "       [ 0.01468915, -0.01733764, -0.03648489, ..., -0.00472093,\n",
      "        -0.04572917, -0.01845752],\n",
      "       ...,\n",
      "       [ 0.03906697,  0.04536386, -0.01126048, ...,  0.03327112,\n",
      "        -0.02483572,  0.02158574],\n",
      "       [ 0.01088905,  0.02679954,  0.04983665, ..., -0.03663471,\n",
      "        -0.0311223 , -0.0489359 ],\n",
      "       [ 0.01005935, -0.02578791,  0.0447904 , ..., -0.02129357,\n",
      "         0.00851243, -0.04377376]], dtype=float32)>, <tf.Variable 'conv1d_1/kernel:0' shape=(3, 400, 100) dtype=float32, numpy=\n",
      "array([[[-0.00507071, -0.00039673, -0.02465847, ..., -0.05647158,\n",
      "          0.05614496, -0.01297942],\n",
      "        [-0.00821557,  0.02737056,  0.00999852, ..., -0.03227293,\n",
      "          0.00431783, -0.04628729],\n",
      "        [-0.02534308, -0.05058526, -0.03825686, ..., -0.02265584,\n",
      "         -0.0582969 ,  0.03394016],\n",
      "        ...,\n",
      "        [-0.03733208,  0.0498448 ,  0.01555366, ...,  0.04274078,\n",
      "         -0.01406952, -0.01219147],\n",
      "        [ 0.00861675,  0.03687861,  0.0258475 , ..., -0.05990437,\n",
      "          0.05678   , -0.0294391 ],\n",
      "        [ 0.00068859, -0.0429515 , -0.03754487, ..., -0.02466287,\n",
      "         -0.06047805,  0.02280748]],\n",
      "\n",
      "       [[ 0.02049248,  0.02061673,  0.03644485, ...,  0.00278512,\n",
      "          0.06180113, -0.03802937],\n",
      "        [-0.00207164,  0.03695224,  0.02582275, ...,  0.03734899,\n",
      "         -0.0228738 , -0.03673885],\n",
      "        [ 0.03886787,  0.00790009,  0.0578972 , ..., -0.05420984,\n",
      "         -0.01316977, -0.04726592],\n",
      "        ...,\n",
      "        [-0.01914638,  0.00516843,  0.04424009, ...,  0.0242757 ,\n",
      "          0.01220725, -0.05304152],\n",
      "        [-0.01286087,  0.03574341,  0.01263171, ...,  0.04581955,\n",
      "          0.01740211, -0.00252135],\n",
      "        [ 0.01442958, -0.034379  ,  0.01045687, ...,  0.06105699,\n",
      "         -0.04622761, -0.05875753]],\n",
      "\n",
      "       [[ 0.01140019,  0.03480808,  0.05622923, ..., -0.05599968,\n",
      "         -0.00916862, -0.03721914],\n",
      "        [ 0.00604031,  0.0234495 ,  0.0181011 , ..., -0.0565897 ,\n",
      "          0.06079746,  0.05042293],\n",
      "        [-0.04293856,  0.04928457,  0.01792777, ..., -0.00879599,\n",
      "         -0.05770829, -0.04637952],\n",
      "        ...,\n",
      "        [ 0.05397952,  0.01983694,  0.02070646, ..., -0.03518964,\n",
      "          0.00239822, -0.06141581],\n",
      "        [-0.01660559, -0.03268738,  0.01107715, ..., -0.00372803,\n",
      "          0.03093102, -0.04956659],\n",
      "        [-0.05656432, -0.04530869,  0.00957078, ..., -0.05588912,\n",
      "         -0.05672286,  0.04834973]]], dtype=float32)>, <tf.Variable 'conv1d_1/bias:0' shape=(100,) dtype=float32, numpy=\n",
      "array([ 0.00099996, -0.00099987, -0.00099997, -0.00099964,  0.00099994,\n",
      "        0.00099997,  0.00099998,  0.00099992,  0.00099998, -0.0009999 ,\n",
      "       -0.00099992, -0.00099994, -0.00099991, -0.00099996,  0.00099961,\n",
      "        0.00099979, -0.00099995,  0.0009999 , -0.00099997, -0.00099914,\n",
      "        0.00099984,  0.00099993,  0.00099997,  0.0009999 , -0.00099984,\n",
      "        0.00099997,  0.00099991,  0.00099996, -0.00099992, -0.00099976,\n",
      "       -0.00099995,  0.00099996, -0.00099994, -0.00099979, -0.00099989,\n",
      "       -0.00099986, -0.00099996, -0.00099996, -0.00099997, -0.00099994,\n",
      "       -0.00099978,  0.00099997,  0.00099983, -0.00099997, -0.00099997,\n",
      "        0.00099991,  0.00099997,  0.00099996,  0.00099998, -0.00099986,\n",
      "        0.00099705, -0.00099985, -0.00099997,  0.00099975,  0.0009999 ,\n",
      "       -0.00099997,  0.00099919, -0.00099963, -0.00099994,  0.00099989,\n",
      "       -0.00099931,  0.00099993,  0.00099997, -0.00099998, -0.00099997,\n",
      "       -0.00099998, -0.00099994,  0.00099998,  0.00099995,  0.00099968,\n",
      "        0.0009998 , -0.00099996,  0.00099997, -0.00099988, -0.00099995,\n",
      "       -0.00099971, -0.00099981,  0.00099996, -0.00099998,  0.00099964,\n",
      "       -0.00099993,  0.00099991,  0.00099997, -0.00098534, -0.00099966,\n",
      "        0.00099988,  0.00099995,  0.00099991,  0.00099992,  0.00099995,\n",
      "        0.00099996,  0.00099949, -0.00099997, -0.00099981, -0.00099994,\n",
      "       -0.00099997, -0.00099983,  0.00099991,  0.00099994,  0.00099997],\n",
      "      dtype=float32)>, <tf.Variable 'dense_1/kernel:0' shape=(100, 3) dtype=float32, numpy=\n",
      "array([[ 0.06584784,  0.04598597, -0.2018772 ],\n",
      "       [-0.11449538,  0.01961733, -0.1315861 ],\n",
      "       [-0.13925493, -0.01714204,  0.1198431 ],\n",
      "       [-0.14184678, -0.14569642, -0.10084689],\n",
      "       [ 0.16244678, -0.17144649,  0.23330697],\n",
      "       [ 0.11243066, -0.07467834, -0.21872064],\n",
      "       [ 0.2350895 , -0.17133927, -0.23790878],\n",
      "       [ 0.12229478, -0.0974419 ,  0.16282296],\n",
      "       [ 0.2002332 , -0.10006623, -0.09923714],\n",
      "       [-0.01594942, -0.01384284,  0.17669639],\n",
      "       [-0.1299595 , -0.14023335,  0.06011204],\n",
      "       [-0.17800587,  0.06013442, -0.14965059],\n",
      "       [-0.20020044, -0.05795054, -0.17513332],\n",
      "       [-0.1377841 ,  0.07657465, -0.04860032],\n",
      "       [ 0.01313025,  0.14049108, -0.14801727],\n",
      "       [-0.09398449, -0.12705463, -0.12970206],\n",
      "       [-0.06437083, -0.06048926,  0.22343053],\n",
      "       [ 0.19503227,  0.12673543,  0.12105651],\n",
      "       [-0.06646761,  0.11810388,  0.1433471 ],\n",
      "       [-0.0564209 , -0.17521441,  0.06036901],\n",
      "       [ 0.10247612, -0.02816309,  0.12775461],\n",
      "       [-0.02883373, -0.05101395, -0.20941314],\n",
      "       [ 0.17261721, -0.14906812, -0.0328977 ],\n",
      "       [ 0.12708464,  0.09986217, -0.02335861],\n",
      "       [-0.17327699, -0.2213817 , -0.04879311],\n",
      "       [ 0.18249924,  0.02077778, -0.02686734],\n",
      "       [ 0.09306592,  0.05643316, -0.03605513],\n",
      "       [ 0.14718705, -0.02949912, -0.05132288],\n",
      "       [-0.14192487, -0.10495324, -0.01787359],\n",
      "       [-0.04803689, -0.08162817,  0.04509626],\n",
      "       [ 0.01512255,  0.0373604 ,  0.23618409],\n",
      "       [ 0.24061844, -0.02289122,  0.10029323],\n",
      "       [ 0.05591881,  0.22392626,  0.15262558],\n",
      "       [ 0.03369781,  0.09353991,  0.04400481],\n",
      "       [-0.16626203, -0.09186938, -0.11651675],\n",
      "       [-0.04005558, -0.04540943,  0.08045933],\n",
      "       [-0.15118463,  0.03814984, -0.04111924],\n",
      "       [-0.05859967,  0.17138736, -0.00844446],\n",
      "       [-0.16666915,  0.01719867,  0.19153042],\n",
      "       [-0.14171454, -0.02188722,  0.0301478 ],\n",
      "       [ 0.10844501,  0.23395279,  0.0432035 ],\n",
      "       [ 0.15811785, -0.18307666,  0.01978744],\n",
      "       [ 0.08028162, -0.11456119,  0.15387864],\n",
      "       [-0.20595056, -0.02091769, -0.00583115],\n",
      "       [-0.22739682, -0.12840047,  0.07514583],\n",
      "       [-0.11472574, -0.19829221, -0.22782065],\n",
      "       [ 0.14160363,  0.10608926, -0.23916271],\n",
      "       [ 0.14619073, -0.00245092, -0.03883823],\n",
      "       [ 0.16883639, -0.1794339 , -0.16361539],\n",
      "       [ 0.07277941,  0.03783726,  0.19451226],\n",
      "       [ 0.10906296,  0.19580317,  0.01934883],\n",
      "       [-0.07742125,  0.1843187 , -0.24205251],\n",
      "       [-0.1085114 ,  0.09325267,  0.11222708],\n",
      "       [ 0.21723667,  0.22479607,  0.14163436],\n",
      "       [ 0.12578371,  0.00349539,  0.02828017],\n",
      "       [-0.230776  ,  0.12736504, -0.1187533 ],\n",
      "       [ 0.07611948,  0.1831901 , -0.04418275],\n",
      "       [-0.03690289,  0.09591694, -0.12893046],\n",
      "       [-0.17006025,  0.05556781, -0.13324007],\n",
      "       [-0.03072385, -0.0132521 , -0.23172925],\n",
      "       [-0.05119352, -0.20568274,  0.10328812],\n",
      "       [ 0.16914026,  0.01778969,  0.12923583],\n",
      "       [ 0.23656932,  0.05175941, -0.03724842],\n",
      "       [-0.16083215,  0.0927029 ,  0.19748423],\n",
      "       [-0.15156958, -0.14887305,  0.23676084],\n",
      "       [-0.21076447,  0.19090395,  0.21625972],\n",
      "       [-0.2377477 , -0.19098526, -0.05860579],\n",
      "       [ 0.16982448, -0.16808231, -0.20784046],\n",
      "       [-0.04656752, -0.13337955, -0.21377154],\n",
      "       [ 0.09527996,  0.08158524,  0.03949994],\n",
      "       [-0.13975081, -0.12405714, -0.22711678],\n",
      "       [-0.11533944,  0.20703243, -0.02688925],\n",
      "       [ 0.1380329 , -0.11583893, -0.12626532],\n",
      "       [ 0.08787563,  0.1529304 ,  0.14349233],\n",
      "       [-0.04415287,  0.23473181, -0.04773303],\n",
      "       [-0.1274237 , -0.18320404, -0.03122078],\n",
      "       [ 0.08768749,  0.20726617,  0.05604715],\n",
      "       [ 0.22462912,  0.03860316,  0.06227821],\n",
      "       [-0.21843635,  0.11888408,  0.20445241],\n",
      "       [ 0.09015805,  0.03034364,  0.1036997 ],\n",
      "       [-0.09773973,  0.05349125, -0.02686186],\n",
      "       [ 0.11679056,  0.08421429, -0.01050248],\n",
      "       [ 0.14045002, -0.14510396,  0.03285649],\n",
      "       [-0.11883056, -0.09114272, -0.14762586],\n",
      "       [-0.01331357, -0.16044946,  0.15653549],\n",
      "       [ 0.20036569,  0.08777394,  0.18486996],\n",
      "       [ 0.17505842,  0.10840591, -0.04810735],\n",
      "       [ 0.04084116, -0.18074964,  0.07447935],\n",
      "       [ 0.18960088,  0.13408463,  0.05810423],\n",
      "       [ 0.10781461,  0.01110594, -0.13590907],\n",
      "       [ 0.21486875, -0.00709608,  0.03992148],\n",
      "       [-0.05793429, -0.19818793,  0.03528278],\n",
      "       [-0.21195269, -0.20646097,  0.2163805 ],\n",
      "       [-0.01244767, -0.07275812,  0.10654657],\n",
      "       [-0.00099339,  0.03619881,  0.20223083],\n",
      "       [-0.16724454,  0.15107822,  0.00186885],\n",
      "       [ 0.03867705,  0.0336722 ,  0.11198606],\n",
      "       [-0.0296669 , -0.10968108, -0.10333522],\n",
      "       [ 0.07345496,  0.06731979, -0.13857238],\n",
      "       [ 0.01444897, -0.21744795, -0.22654474]], dtype=float32)>, <tf.Variable 'dense_1/bias:0' shape=(3,) dtype=float32, numpy=array([ 0.00099999, -0.00099999, -0.00099999], dtype=float32)>]\n"
     ]
    }
   ],
   "source": [
    "print(model.weights)"
   ]
  },
  {
   "cell_type": "markdown",
   "id": "ef4bfb1d",
   "metadata": {},
   "source": [
    "# class_weight"
   ]
  },
  {
   "cell_type": "code",
   "execution_count": 28,
   "id": "f2081895",
   "metadata": {},
   "outputs": [],
   "source": [
    "class_weight = {0: 1.,\n",
    "                1: 20.,\n",
    "                2: 10.}"
   ]
  },
  {
   "cell_type": "code",
   "execution_count": 29,
   "id": "f313c833",
   "metadata": {},
   "outputs": [
    {
     "name": "stdout",
     "output_type": "stream",
     "text": [
      "Model: \"model_2\"\n",
      "__________________________________________________________________________________________________\n",
      "Layer (type)                    Output Shape         Param #     Connected to                     \n",
      "==================================================================================================\n",
      "words_input (InputLayer)        [(None, 97)]         0                                            \n",
      "__________________________________________________________________________________________________\n",
      "distance1_input (InputLayer)    [(None, 97)]         0                                            \n",
      "__________________________________________________________________________________________________\n",
      "distance2_input (InputLayer)    [(None, 97)]         0                                            \n",
      "__________________________________________________________________________________________________\n",
      "embedding_6 (Embedding)         (None, 97, 300)      6372900     words_input[0][0]                \n",
      "__________________________________________________________________________________________________\n",
      "embedding_7 (Embedding)         (None, 97, 50)       3200        distance1_input[0][0]            \n",
      "__________________________________________________________________________________________________\n",
      "embedding_8 (Embedding)         (None, 97, 50)       3200        distance2_input[0][0]            \n",
      "__________________________________________________________________________________________________\n",
      "concatenate_2 (Concatenate)     (None, 97, 400)      0           embedding_6[0][0]                \n",
      "                                                                 embedding_7[0][0]                \n",
      "                                                                 embedding_8[0][0]                \n",
      "__________________________________________________________________________________________________\n",
      "conv1d_2 (Conv1D)               (None, 97, 100)      120100      concatenate_2[0][0]              \n",
      "__________________________________________________________________________________________________\n",
      "global_max_pooling1d_2 (GlobalM (None, 100)          0           conv1d_2[0][0]                   \n",
      "__________________________________________________________________________________________________\n",
      "dropout_2 (Dropout)             (None, 100)          0           global_max_pooling1d_2[0][0]     \n",
      "__________________________________________________________________________________________________\n",
      "dense_2 (Dense)                 (None, 3)            303         dropout_2[0][0]                  \n",
      "==================================================================================================\n",
      "Total params: 6,499,703\n",
      "Trainable params: 126,803\n",
      "Non-trainable params: 6,372,900\n",
      "__________________________________________________________________________________________________\n",
      "Start training\n"
     ]
    }
   ],
   "source": [
    "words_input = Input(shape=(max_sentence_len,), dtype='int32', name='words_input')\n",
    "words = Embedding(embeddings.shape[0], embeddings.shape[1], weights=[embeddings], trainable=False)(words_input)\n",
    "\n",
    "distance1_input = Input(shape=(max_sentence_len,), dtype='int32', name='distance1_input')\n",
    "distance1 = Embedding(max_position, position_dims)(distance1_input)\n",
    "\n",
    "distance2_input = Input(shape=(max_sentence_len,), dtype='int32', name='distance2_input')\n",
    "distance2 = Embedding(max_position, position_dims)(distance2_input)\n",
    "\n",
    "output = concatenate([words, distance1, distance2])\n",
    "\n",
    "output = Convolution1D(filters=nb_filter,\n",
    "                        kernel_size=filter_length,\n",
    "                        padding='same',\n",
    "                        activation='tanh',\n",
    "                        strides=1)(output)\n",
    "\n",
    "# standard max over time pooling\n",
    "output = GlobalMaxPooling1D()(output)\n",
    "\n",
    "output = Dropout(0.25)(output)\n",
    "output = Dense(n_out, activation='softmax')(output)\n",
    "#model = Model(inputs=[words_input, distance1_input, distance2_input], outputs=[output])\n",
    "inputs=[words_input, distance1_input, distance2_input]\n",
    "outputs=[output]\n",
    "model=tf.keras.Model(inputs, outputs)\n",
    "model = Model(inputs=[words_input, distance1_input, distance2_input], outputs=[output])\n",
    "model.compile(loss='sparse_categorical_crossentropy',optimizer='Adam', metrics=['accuracy'],run_eagerly=True)\n",
    "model.summary()\n",
    "\n",
    "print(\"Start training\")"
   ]
  },
  {
   "cell_type": "code",
   "execution_count": 30,
   "id": "c8ab6ddd",
   "metadata": {},
   "outputs": [
    {
     "name": "stdout",
     "output_type": "stream",
     "text": [
      "Epoch 1/20\n",
      "100/100 [==============================] - 6s 57ms/step - loss: 1.9745 - accuracy: 0.7800 - val_loss: 0.4995 - val_accuracy: 0.8438\n",
      "— val_f1: 0.749582 — val_precision: 0.702170 — val_recall 0.848245\n",
      "Epoch 2/20\n",
      "100/100 [==============================] - 6s 57ms/step - loss: 0.8163 - accuracy: 0.9323 - val_loss: 0.2517 - val_accuracy: 0.9062\n",
      "— val_f1: 0.830915 — val_precision: 0.781555 — val_recall 0.897562\n",
      "Epoch 3/20\n",
      "100/100 [==============================] - 6s 65ms/step - loss: 0.4174 - accuracy: 0.9567 - val_loss: 0.2070 - val_accuracy: 0.9219\n",
      "— val_f1: 0.842733 — val_precision: 0.799414 — val_recall 0.898368\n",
      "Epoch 4/20\n",
      "100/100 [==============================] - 7s 66ms/step - loss: 0.2529 - accuracy: 0.9728 - val_loss: 0.2074 - val_accuracy: 0.9062\n",
      "— val_f1: 0.843378 — val_precision: 0.803487 — val_recall 0.901153\n",
      "Epoch 5/20\n",
      "100/100 [==============================] - 7s 72ms/step - loss: 0.1620 - accuracy: 0.9798 - val_loss: 0.1233 - val_accuracy: 0.9531\n",
      "— val_f1: 0.894825 — val_precision: 0.890881 — val_recall 0.901623\n",
      "Epoch 6/20\n",
      "100/100 [==============================] - 7s 69ms/step - loss: 0.1176 - accuracy: 0.9858 - val_loss: 0.1220 - val_accuracy: 0.9375\n",
      "— val_f1: 0.891565 — val_precision: 0.899632 — val_recall 0.885361\n",
      "Epoch 7/20\n",
      "100/100 [==============================] - 7s 71ms/step - loss: 0.0871 - accuracy: 0.9881 - val_loss: 0.1239 - val_accuracy: 0.9219\n",
      "— val_f1: 0.887510 — val_precision: 0.884502 — val_recall 0.891561\n"
     ]
    }
   ],
   "source": [
    "#history=model.fit([sentenceTrain, positionTrain1, positionTrain2], yTrain, batch_size=batch_size, verbose=True,epochs=20,validation_steps=1,validation_split=0.2, callbacks=[metrics])\n",
    "from keras.callbacks import ModelCheckpoint, EarlyStopping\n",
    "history=model.fit([sentenceTrain0, positionTrain01, positionTrain02], yTrain0, batch_size=batch_size, verbose=True,epochs=20,validation_steps=1,validation_data=([sentenceVal0,positionVal01,positionVal02], yVal0), callbacks=[metrics\n",
    "        ,ModelCheckpoint('models/cnn_model_1.h5')], class_weight=class_weight)"
   ]
  },
  {
   "cell_type": "code",
   "execution_count": 32,
   "id": "98dba872",
   "metadata": {},
   "outputs": [
    {
     "name": "stdout",
     "output_type": "stream",
     "text": [
      "85/85 [==============================] - 1s 12ms/step - loss: 0.0873 - accuracy: 0.9746\n"
     ]
    },
    {
     "data": {
      "text/plain": [
       "[0.08733908832073212, 0.9746043682098389]"
      ]
     },
     "execution_count": 32,
     "metadata": {},
     "output_type": "execute_result"
    }
   ],
   "source": [
    "# check the evaluation before and after are same\n",
    "model.evaluate([sentenceTest, positionTest1, positionTest2], yTest)"
   ]
  },
  {
   "cell_type": "markdown",
   "id": "b4bda335",
   "metadata": {},
   "source": [
    "# Class weight with sklearn.utils.class_weight.compute_class_weight"
   ]
  },
  {
   "cell_type": "code",
   "execution_count": 30,
   "id": "4a4a72bb",
   "metadata": {},
   "outputs": [],
   "source": [
    "import numpy as np\n",
    "import sklearn"
   ]
  },
  {
   "cell_type": "code",
   "execution_count": 31,
   "id": "9606cc8a",
   "metadata": {},
   "outputs": [],
   "source": [
    "classes=np.array([0, 1, 2])"
   ]
  },
  {
   "cell_type": "code",
   "execution_count": 32,
   "id": "aed3f749",
   "metadata": {},
   "outputs": [],
   "source": [
    "class_weights = sklearn.utils.class_weight.compute_class_weight('balanced', classes, yTrain)"
   ]
  },
  {
   "cell_type": "code",
   "execution_count": 36,
   "id": "f235a544",
   "metadata": {},
   "outputs": [
    {
     "data": {
      "text/plain": [
       "array([0.38111572, 7.75193798, 4.04653515])"
      ]
     },
     "execution_count": 36,
     "metadata": {},
     "output_type": "execute_result"
    }
   ],
   "source": [
    "class_weights"
   ]
  },
  {
   "cell_type": "code",
   "execution_count": 37,
   "id": "39440375",
   "metadata": {},
   "outputs": [],
   "source": [
    "class_weight = {0: 0.38111572,\n",
    "                1: 7.75193798,\n",
    "                2: 4.04653515}"
   ]
  },
  {
   "cell_type": "code",
   "execution_count": 39,
   "id": "f4067f33",
   "metadata": {},
   "outputs": [
    {
     "name": "stdout",
     "output_type": "stream",
     "text": [
      "Epoch 1/20\n",
      "100/100 [==============================] - 7s 64ms/step - loss: 0.7865 - accuracy: 0.7262 - val_loss: 0.4258 - val_accuracy: 0.8750\n",
      "— val_f1: 0.768291 — val_precision: 0.704249 — val_recall 0.874164\n",
      "Epoch 2/20\n",
      "100/100 [==============================] - 7s 65ms/step - loss: 0.2864 - accuracy: 0.9292 - val_loss: 0.2329 - val_accuracy: 0.9219\n",
      "— val_f1: 0.872883 — val_precision: 0.854274 — val_recall 0.904241\n",
      "Epoch 3/20\n",
      "100/100 [==============================] - 6s 65ms/step - loss: 0.1490 - accuracy: 0.9588 - val_loss: 0.2262 - val_accuracy: 0.9219\n",
      "— val_f1: 0.858084 — val_precision: 0.818587 — val_recall 0.910511\n",
      "Epoch 4/20\n",
      "100/100 [==============================] - 6s 65ms/step - loss: 0.0917 - accuracy: 0.9716 - val_loss: 0.1848 - val_accuracy: 0.9531\n",
      "— val_f1: 0.863188 — val_precision: 0.832254 — val_recall 0.901412\n"
     ]
    }
   ],
   "source": [
    "#history=model.fit([sentenceTrain, positionTrain1, positionTrain2], yTrain, batch_size=batch_size, verbose=True,epochs=20,validation_steps=1,validation_split=0.2, callbacks=[metrics])\n",
    "from keras.callbacks import ModelCheckpoint, EarlyStopping\n",
    "history=model.fit([sentenceTrain0, positionTrain01, positionTrain02], yTrain0, batch_size=batch_size, verbose=True,epochs=20,validation_steps=1,validation_data=([sentenceVal0,positionVal01,positionVal02], yVal0), callbacks=[metrics\n",
    "        ,ModelCheckpoint('models/cnn_model_1.h5')], class_weight=class_weight)"
   ]
  },
  {
   "cell_type": "code",
   "execution_count": 40,
   "id": "1f4dc4d2",
   "metadata": {},
   "outputs": [
    {
     "name": "stdout",
     "output_type": "stream",
     "text": [
      "85/85 [==============================] - 1s 15ms/step - loss: 0.1332 - accuracy: 0.9628\n"
     ]
    },
    {
     "data": {
      "text/plain": [
       "[0.13324923813343048, 0.962826669216156]"
      ]
     },
     "execution_count": 40,
     "metadata": {},
     "output_type": "execute_result"
    }
   ],
   "source": [
    "# check the evaluation before and after are same\n",
    "model.evaluate([sentenceTest, positionTest1, positionTest2], yTest)"
   ]
  },
  {
   "cell_type": "code",
   "execution_count": null,
   "id": "fe08b527",
   "metadata": {},
   "outputs": [],
   "source": []
  },
  {
   "cell_type": "code",
   "execution_count": null,
   "id": "a7ebb2fe",
   "metadata": {},
   "outputs": [],
   "source": []
  },
  {
   "cell_type": "code",
   "execution_count": null,
   "id": "2dc269dc",
   "metadata": {},
   "outputs": [],
   "source": []
  },
  {
   "cell_type": "code",
   "execution_count": null,
   "id": "8d6ebb83",
   "metadata": {},
   "outputs": [],
   "source": []
  },
  {
   "cell_type": "markdown",
   "id": "0f66a3cf",
   "metadata": {},
   "source": [
    "# Testing on a benchmark dataset"
   ]
  },
  {
   "cell_type": "code",
   "execution_count": 41,
   "id": "7e99749d",
   "metadata": {},
   "outputs": [],
   "source": [
    "folder = 'data/'\n",
    "files = [folder+'my_ctest2.txt']"
   ]
  },
  {
   "cell_type": "code",
   "execution_count": 42,
   "id": "bb39cb4a",
   "metadata": {},
   "outputs": [
    {
     "name": "stdout",
     "output_type": "stream",
     "text": [
      "Load dataset\n"
     ]
    }
   ],
   "source": [
    "print(\"Load dataset\")\n",
    "f = gzip.open(folder + 'causal-relations.pkl.gz', 'rb')\n",
    "data = pkl.load(f)\n",
    "f.close()"
   ]
  },
  {
   "cell_type": "code",
   "execution_count": 43,
   "id": "98c066f8",
   "metadata": {},
   "outputs": [],
   "source": [
    "maxSentenceLen = data['max_sentence_length']\n",
    "word2Idx = data['word2Idx']\n",
    "labelsMapping = data['labels_mapping']\n",
    "minDistance = data['min_distance']\n",
    "maxDistance = data['max_distance']"
   ]
  },
  {
   "cell_type": "code",
   "execution_count": 44,
   "id": "591d97d5",
   "metadata": {},
   "outputs": [
    {
     "name": "stdout",
     "output_type": "stream",
     "text": [
      "Max Sentence Lengths:  97\n"
     ]
    }
   ],
   "source": [
    "print(\"Max Sentence Lengths: \", maxSentenceLen)"
   ]
  },
  {
   "cell_type": "code",
   "execution_count": 45,
   "id": "3bf9f2ad",
   "metadata": {},
   "outputs": [
    {
     "name": "stdout",
     "output_type": "stream",
     "text": [
      "files ['data/my_ctest2.txt']\n"
     ]
    }
   ],
   "source": [
    "vectorizer = Vectorizer(word2Idx, labelsMapping, minDistance, maxDistance, maxSentenceLen)\n",
    "print('files',files)\n",
    "yTest, sentenceTest, positionTest1, positionTest2 = vectorizer.vectorizeInput1(files[0])\n",
    "\n",
    "#model = load_model('model/causal_rel_model.h5')\n",
    "#model = load_model('models/cnn_model_val_f1.h5')\n",
    "model = load_model('models/cnn_model_1.h5')"
   ]
  },
  {
   "cell_type": "code",
   "execution_count": 46,
   "id": "54232a02",
   "metadata": {},
   "outputs": [],
   "source": [
    "pred_test_ini = model.predict([sentenceTest, positionTest1, positionTest2], verbose=False)\n",
    "pred_test = pred_test_ini.argmax(axis=-1)"
   ]
  },
  {
   "cell_type": "code",
   "execution_count": 47,
   "id": "2df406b4",
   "metadata": {},
   "outputs": [
    {
     "name": "stdout",
     "output_type": "stream",
     "text": [
      "test result:\n",
      "[2 1 0 1 0]\n"
     ]
    }
   ],
   "source": [
    "print(\"test result:\")\n",
    "print(pred_test)"
   ]
  },
  {
   "cell_type": "code",
   "execution_count": null,
   "id": "5acb0677",
   "metadata": {},
   "outputs": [],
   "source": []
  }
 ],
 "metadata": {
  "kernelspec": {
   "display_name": "Python 3 (ipykernel)",
   "language": "python",
   "name": "python3"
  },
  "language_info": {
   "codemirror_mode": {
    "name": "ipython",
    "version": 3
   },
   "file_extension": ".py",
   "mimetype": "text/x-python",
   "name": "python",
   "nbconvert_exporter": "python",
   "pygments_lexer": "ipython3",
   "version": "3.9.7"
  }
 },
 "nbformat": 4,
 "nbformat_minor": 5
}
